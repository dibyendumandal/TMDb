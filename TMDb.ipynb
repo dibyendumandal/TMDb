{
 "cells": [
  {
   "cell_type": "markdown",
   "metadata": {},
   "source": [
    "# Project: Exploring the Movie Database (TMDB)\n",
    "## Table of contents\n",
    "<ul>\n",
    "<li><a href=\"#intro\"> Introduction </a></li>\n",
    "<li><a href=\"#wrangle\"> Wrangling </a></li>\n",
    "<li><a href=\"#explore\"> Expploratory data analysis </a></li>\n",
    "<li><a href=\"#conclude\"> Conclusions </a></li>\n",
    "</ul>     "
   ]
  },
  {
   "cell_type": "markdown",
   "metadata": {},
   "source": [
    "<a id='intro'></a>\n",
    "## Introduction"
   ]
  },
  {
   "cell_type": "markdown",
   "metadata": {},
   "source": [
    "I like action, animation, fantasy, and science fiction movies (not necessarily in that order!).\n",
    "For a personal project I would have liked the know what are the most popular movies in these categories. \n",
    "Do other people like these categories as well?\n",
    "Do these movies make money?\n",
    "\n",
    "But that would be a personal project. \n",
    "I have refrained from these questions in the current project. \n",
    "Instead I have followed the standard procedure of wrangling and exploring a given dataset. \n",
    "Along the way I have asked questions based upon the features of the dataset. \n",
    "\n",
    "1. What are the most popular movies of all time?\n",
    "2. What are the features associated with these movies?\n",
    "3. Who are the most popular directors?\n",
    "4. How is the revenue distribution?\n",
    "5. What are the top-grossing movies of all time?\n",
    "6. Who are the directors of top-grossing movies?\n",
    "7. Is popularity related to revenue?\n",
    "8. Who are the most productive directors?\n",
    "9. What's the yearly movie production rate?\n",
    "10. Which genres have been popular over the years?\n",
    "\n",
    "In the following, I first describe the data wrangling phase where I load the data into a dataframe, and then assess and clean. \n",
    "Then I describe my explorations of the dataset. \n",
    "I have explored *popularity, revenue, their interelation, directors, years, *and* genres.* \n",
    "Along the way I also find the answers to the questions posed above. "
   ]
  },
  {
   "cell_type": "markdown",
   "metadata": {},
   "source": [
    "### Libraries"
   ]
  },
  {
   "cell_type": "code",
   "execution_count": 1,
   "metadata": {},
   "outputs": [],
   "source": [
    "import numpy as np\n",
    "import pandas as pd\n",
    "import matplotlib.pyplot as plt\n",
    "% matplotlib inline\n",
    "import seaborn as sns\n",
    "sns.set()"
   ]
  },
  {
   "cell_type": "markdown",
   "metadata": {},
   "source": [
    "<a id='wrangle'></a>\n",
    "## Wrangle"
   ]
  },
  {
   "cell_type": "markdown",
   "metadata": {},
   "source": [
    "### Gather"
   ]
  },
  {
   "cell_type": "code",
   "execution_count": 2,
   "metadata": {},
   "outputs": [
    {
     "data": {
      "text/html": [
       "<div>\n",
       "<style scoped>\n",
       "    .dataframe tbody tr th:only-of-type {\n",
       "        vertical-align: middle;\n",
       "    }\n",
       "\n",
       "    .dataframe tbody tr th {\n",
       "        vertical-align: top;\n",
       "    }\n",
       "\n",
       "    .dataframe thead th {\n",
       "        text-align: right;\n",
       "    }\n",
       "</style>\n",
       "<table border=\"1\" class=\"dataframe\">\n",
       "  <thead>\n",
       "    <tr style=\"text-align: right;\">\n",
       "      <th></th>\n",
       "      <th>id</th>\n",
       "      <th>imdb_id</th>\n",
       "      <th>popularity</th>\n",
       "      <th>budget</th>\n",
       "      <th>revenue</th>\n",
       "      <th>original_title</th>\n",
       "      <th>cast</th>\n",
       "      <th>homepage</th>\n",
       "      <th>director</th>\n",
       "      <th>tagline</th>\n",
       "      <th>...</th>\n",
       "      <th>overview</th>\n",
       "      <th>runtime</th>\n",
       "      <th>genres</th>\n",
       "      <th>production_companies</th>\n",
       "      <th>release_date</th>\n",
       "      <th>vote_count</th>\n",
       "      <th>vote_average</th>\n",
       "      <th>release_year</th>\n",
       "      <th>budget_adj</th>\n",
       "      <th>revenue_adj</th>\n",
       "    </tr>\n",
       "  </thead>\n",
       "  <tbody>\n",
       "    <tr>\n",
       "      <th>0</th>\n",
       "      <td>135397</td>\n",
       "      <td>tt0369610</td>\n",
       "      <td>32.985763</td>\n",
       "      <td>150000000</td>\n",
       "      <td>1513528810</td>\n",
       "      <td>Jurassic World</td>\n",
       "      <td>Chris Pratt|Bryce Dallas Howard|Irrfan Khan|Vi...</td>\n",
       "      <td>http://www.jurassicworld.com/</td>\n",
       "      <td>Colin Trevorrow</td>\n",
       "      <td>The park is open.</td>\n",
       "      <td>...</td>\n",
       "      <td>Twenty-two years after the events of Jurassic ...</td>\n",
       "      <td>124</td>\n",
       "      <td>Action|Adventure|Science Fiction|Thriller</td>\n",
       "      <td>Universal Studios|Amblin Entertainment|Legenda...</td>\n",
       "      <td>6/9/15</td>\n",
       "      <td>5562</td>\n",
       "      <td>6.5</td>\n",
       "      <td>2015</td>\n",
       "      <td>1.379999e+08</td>\n",
       "      <td>1.392446e+09</td>\n",
       "    </tr>\n",
       "    <tr>\n",
       "      <th>1</th>\n",
       "      <td>76341</td>\n",
       "      <td>tt1392190</td>\n",
       "      <td>28.419936</td>\n",
       "      <td>150000000</td>\n",
       "      <td>378436354</td>\n",
       "      <td>Mad Max: Fury Road</td>\n",
       "      <td>Tom Hardy|Charlize Theron|Hugh Keays-Byrne|Nic...</td>\n",
       "      <td>http://www.madmaxmovie.com/</td>\n",
       "      <td>George Miller</td>\n",
       "      <td>What a Lovely Day.</td>\n",
       "      <td>...</td>\n",
       "      <td>An apocalyptic story set in the furthest reach...</td>\n",
       "      <td>120</td>\n",
       "      <td>Action|Adventure|Science Fiction|Thriller</td>\n",
       "      <td>Village Roadshow Pictures|Kennedy Miller Produ...</td>\n",
       "      <td>5/13/15</td>\n",
       "      <td>6185</td>\n",
       "      <td>7.1</td>\n",
       "      <td>2015</td>\n",
       "      <td>1.379999e+08</td>\n",
       "      <td>3.481613e+08</td>\n",
       "    </tr>\n",
       "    <tr>\n",
       "      <th>2</th>\n",
       "      <td>262500</td>\n",
       "      <td>tt2908446</td>\n",
       "      <td>13.112507</td>\n",
       "      <td>110000000</td>\n",
       "      <td>295238201</td>\n",
       "      <td>Insurgent</td>\n",
       "      <td>Shailene Woodley|Theo James|Kate Winslet|Ansel...</td>\n",
       "      <td>http://www.thedivergentseries.movie/#insurgent</td>\n",
       "      <td>Robert Schwentke</td>\n",
       "      <td>One Choice Can Destroy You</td>\n",
       "      <td>...</td>\n",
       "      <td>Beatrice Prior must confront her inner demons ...</td>\n",
       "      <td>119</td>\n",
       "      <td>Adventure|Science Fiction|Thriller</td>\n",
       "      <td>Summit Entertainment|Mandeville Films|Red Wago...</td>\n",
       "      <td>3/18/15</td>\n",
       "      <td>2480</td>\n",
       "      <td>6.3</td>\n",
       "      <td>2015</td>\n",
       "      <td>1.012000e+08</td>\n",
       "      <td>2.716190e+08</td>\n",
       "    </tr>\n",
       "    <tr>\n",
       "      <th>3</th>\n",
       "      <td>140607</td>\n",
       "      <td>tt2488496</td>\n",
       "      <td>11.173104</td>\n",
       "      <td>200000000</td>\n",
       "      <td>2068178225</td>\n",
       "      <td>Star Wars: The Force Awakens</td>\n",
       "      <td>Harrison Ford|Mark Hamill|Carrie Fisher|Adam D...</td>\n",
       "      <td>http://www.starwars.com/films/star-wars-episod...</td>\n",
       "      <td>J.J. Abrams</td>\n",
       "      <td>Every generation has a story.</td>\n",
       "      <td>...</td>\n",
       "      <td>Thirty years after defeating the Galactic Empi...</td>\n",
       "      <td>136</td>\n",
       "      <td>Action|Adventure|Science Fiction|Fantasy</td>\n",
       "      <td>Lucasfilm|Truenorth Productions|Bad Robot</td>\n",
       "      <td>12/15/15</td>\n",
       "      <td>5292</td>\n",
       "      <td>7.5</td>\n",
       "      <td>2015</td>\n",
       "      <td>1.839999e+08</td>\n",
       "      <td>1.902723e+09</td>\n",
       "    </tr>\n",
       "    <tr>\n",
       "      <th>4</th>\n",
       "      <td>168259</td>\n",
       "      <td>tt2820852</td>\n",
       "      <td>9.335014</td>\n",
       "      <td>190000000</td>\n",
       "      <td>1506249360</td>\n",
       "      <td>Furious 7</td>\n",
       "      <td>Vin Diesel|Paul Walker|Jason Statham|Michelle ...</td>\n",
       "      <td>http://www.furious7.com/</td>\n",
       "      <td>James Wan</td>\n",
       "      <td>Vengeance Hits Home</td>\n",
       "      <td>...</td>\n",
       "      <td>Deckard Shaw seeks revenge against Dominic Tor...</td>\n",
       "      <td>137</td>\n",
       "      <td>Action|Crime|Thriller</td>\n",
       "      <td>Universal Pictures|Original Film|Media Rights ...</td>\n",
       "      <td>4/1/15</td>\n",
       "      <td>2947</td>\n",
       "      <td>7.3</td>\n",
       "      <td>2015</td>\n",
       "      <td>1.747999e+08</td>\n",
       "      <td>1.385749e+09</td>\n",
       "    </tr>\n",
       "  </tbody>\n",
       "</table>\n",
       "<p>5 rows × 21 columns</p>\n",
       "</div>"
      ],
      "text/plain": [
       "       id    imdb_id  popularity     budget     revenue  \\\n",
       "0  135397  tt0369610   32.985763  150000000  1513528810   \n",
       "1   76341  tt1392190   28.419936  150000000   378436354   \n",
       "2  262500  tt2908446   13.112507  110000000   295238201   \n",
       "3  140607  tt2488496   11.173104  200000000  2068178225   \n",
       "4  168259  tt2820852    9.335014  190000000  1506249360   \n",
       "\n",
       "                 original_title  \\\n",
       "0                Jurassic World   \n",
       "1            Mad Max: Fury Road   \n",
       "2                     Insurgent   \n",
       "3  Star Wars: The Force Awakens   \n",
       "4                     Furious 7   \n",
       "\n",
       "                                                cast  \\\n",
       "0  Chris Pratt|Bryce Dallas Howard|Irrfan Khan|Vi...   \n",
       "1  Tom Hardy|Charlize Theron|Hugh Keays-Byrne|Nic...   \n",
       "2  Shailene Woodley|Theo James|Kate Winslet|Ansel...   \n",
       "3  Harrison Ford|Mark Hamill|Carrie Fisher|Adam D...   \n",
       "4  Vin Diesel|Paul Walker|Jason Statham|Michelle ...   \n",
       "\n",
       "                                            homepage          director  \\\n",
       "0                      http://www.jurassicworld.com/   Colin Trevorrow   \n",
       "1                        http://www.madmaxmovie.com/     George Miller   \n",
       "2     http://www.thedivergentseries.movie/#insurgent  Robert Schwentke   \n",
       "3  http://www.starwars.com/films/star-wars-episod...       J.J. Abrams   \n",
       "4                           http://www.furious7.com/         James Wan   \n",
       "\n",
       "                         tagline      ...       \\\n",
       "0              The park is open.      ...        \n",
       "1             What a Lovely Day.      ...        \n",
       "2     One Choice Can Destroy You      ...        \n",
       "3  Every generation has a story.      ...        \n",
       "4            Vengeance Hits Home      ...        \n",
       "\n",
       "                                            overview runtime  \\\n",
       "0  Twenty-two years after the events of Jurassic ...     124   \n",
       "1  An apocalyptic story set in the furthest reach...     120   \n",
       "2  Beatrice Prior must confront her inner demons ...     119   \n",
       "3  Thirty years after defeating the Galactic Empi...     136   \n",
       "4  Deckard Shaw seeks revenge against Dominic Tor...     137   \n",
       "\n",
       "                                      genres  \\\n",
       "0  Action|Adventure|Science Fiction|Thriller   \n",
       "1  Action|Adventure|Science Fiction|Thriller   \n",
       "2         Adventure|Science Fiction|Thriller   \n",
       "3   Action|Adventure|Science Fiction|Fantasy   \n",
       "4                      Action|Crime|Thriller   \n",
       "\n",
       "                                production_companies release_date vote_count  \\\n",
       "0  Universal Studios|Amblin Entertainment|Legenda...       6/9/15       5562   \n",
       "1  Village Roadshow Pictures|Kennedy Miller Produ...      5/13/15       6185   \n",
       "2  Summit Entertainment|Mandeville Films|Red Wago...      3/18/15       2480   \n",
       "3          Lucasfilm|Truenorth Productions|Bad Robot     12/15/15       5292   \n",
       "4  Universal Pictures|Original Film|Media Rights ...       4/1/15       2947   \n",
       "\n",
       "   vote_average  release_year    budget_adj   revenue_adj  \n",
       "0           6.5          2015  1.379999e+08  1.392446e+09  \n",
       "1           7.1          2015  1.379999e+08  3.481613e+08  \n",
       "2           6.3          2015  1.012000e+08  2.716190e+08  \n",
       "3           7.5          2015  1.839999e+08  1.902723e+09  \n",
       "4           7.3          2015  1.747999e+08  1.385749e+09  \n",
       "\n",
       "[5 rows x 21 columns]"
      ]
     },
     "execution_count": 2,
     "metadata": {},
     "output_type": "execute_result"
    }
   ],
   "source": [
    "dataset = pd.read_csv('tmdb-movies.csv');\n",
    "dataset.head()"
   ]
  },
  {
   "cell_type": "markdown",
   "metadata": {},
   "source": [
    "We see that there are 21 features associated with each entry. \n",
    "The questions I am interested in primarily concerns the popularity and box-office performance of a movie. \n",
    "In this respect, some of the features like 'id', 'imdb_id', and 'homepage' are irrelevant. \n",
    "In the next phases of the wrangling procedure I shall consider modifying the dataframe to our need. "
   ]
  },
  {
   "cell_type": "markdown",
   "metadata": {},
   "source": [
    "### Assess"
   ]
  },
  {
   "cell_type": "markdown",
   "metadata": {},
   "source": [
    "Because a number of features could not be displayed abobe, let's first generate a list of the features in the dataset. \n",
    "This information will be helpful in deciding which features to keep. "
   ]
  },
  {
   "cell_type": "code",
   "execution_count": 3,
   "metadata": {},
   "outputs": [
    {
     "data": {
      "text/plain": [
       "Index(['id', 'imdb_id', 'popularity', 'budget', 'revenue', 'original_title',\n",
       "       'cast', 'homepage', 'director', 'tagline', 'keywords', 'overview',\n",
       "       'runtime', 'genres', 'production_companies', 'release_date',\n",
       "       'vote_count', 'vote_average', 'release_year', 'budget_adj',\n",
       "       'revenue_adj'],\n",
       "      dtype='object')"
      ]
     },
     "execution_count": 3,
     "metadata": {},
     "output_type": "execute_result"
    }
   ],
   "source": [
    "dataset.columns"
   ]
  },
  {
   "cell_type": "markdown",
   "metadata": {},
   "source": [
    "We can safely drop 'id', 'imdb_id', 'budget', 'revenue', and 'homepage' features: 'id' , 'imdb_id', and 'homepage' should have any relevance to the popularity and revenue of a movie, and raw 'budget' and 'revenue' are unnecessary as their adjusted values are also given in the final columns. \n",
    "It may be argued that the tagline, keywords, and overview matters for the popularity and revenue of a movie. \n",
    "However, this information may be redundant when the genres are specified or just too difficult to use. \n",
    "In the following, I have therefore decided to drop these features as well. \n",
    "Because the popularity score is already given, I shall not need 'vote_count' and 'vote_average'. "
   ]
  },
  {
   "cell_type": "code",
   "execution_count": 4,
   "metadata": {},
   "outputs": [
    {
     "name": "stdout",
     "output_type": "stream",
     "text": [
      "<class 'pandas.core.frame.DataFrame'>\n",
      "RangeIndex: 10866 entries, 0 to 10865\n",
      "Data columns (total 11 columns):\n",
      "popularity              10866 non-null float64\n",
      "original_title          10866 non-null object\n",
      "cast                    10790 non-null object\n",
      "director                10822 non-null object\n",
      "runtime                 10866 non-null int64\n",
      "genres                  10843 non-null object\n",
      "production_companies    9836 non-null object\n",
      "release_date            10866 non-null object\n",
      "release_year            10866 non-null int64\n",
      "budget_adj              10866 non-null float64\n",
      "revenue_adj             10866 non-null float64\n",
      "dtypes: float64(3), int64(2), object(6)\n",
      "memory usage: 933.9+ KB\n"
     ]
    }
   ],
   "source": [
    "list_drop = ['id', 'imdb_id', 'budget', 'revenue', 'homepage', 'tagline', 'overview', 'vote_count', 'vote_average', 'keywords']\n",
    "dataset.drop(list_drop, axis=1, inplace=True)\n",
    "dataset.info()"
   ]
  },
  {
   "cell_type": "markdown",
   "metadata": {},
   "source": [
    "### Clean "
   ]
  },
  {
   "cell_type": "markdown",
   "metadata": {},
   "source": [
    "Time to clean data!\n",
    "We see that come entries for cast are missing. \n",
    "Let's have a look at some of these movies. "
   ]
  },
  {
   "cell_type": "markdown",
   "metadata": {},
   "source": [
    "#### Cast"
   ]
  },
  {
   "cell_type": "code",
   "execution_count": 5,
   "metadata": {
    "scrolled": true
   },
   "outputs": [
    {
     "data": {
      "text/html": [
       "<div>\n",
       "<style scoped>\n",
       "    .dataframe tbody tr th:only-of-type {\n",
       "        vertical-align: middle;\n",
       "    }\n",
       "\n",
       "    .dataframe tbody tr th {\n",
       "        vertical-align: top;\n",
       "    }\n",
       "\n",
       "    .dataframe thead th {\n",
       "        text-align: right;\n",
       "    }\n",
       "</style>\n",
       "<table border=\"1\" class=\"dataframe\">\n",
       "  <thead>\n",
       "    <tr style=\"text-align: right;\">\n",
       "      <th></th>\n",
       "      <th>popularity</th>\n",
       "      <th>original_title</th>\n",
       "      <th>cast</th>\n",
       "      <th>director</th>\n",
       "      <th>runtime</th>\n",
       "      <th>genres</th>\n",
       "      <th>production_companies</th>\n",
       "      <th>release_date</th>\n",
       "      <th>release_year</th>\n",
       "      <th>budget_adj</th>\n",
       "      <th>revenue_adj</th>\n",
       "    </tr>\n",
       "  </thead>\n",
       "  <tbody>\n",
       "    <tr>\n",
       "      <th>371</th>\n",
       "      <td>0.422901</td>\n",
       "      <td>Sanjay's Super Team</td>\n",
       "      <td>NaN</td>\n",
       "      <td>Sanjay Patel</td>\n",
       "      <td>7</td>\n",
       "      <td>Animation</td>\n",
       "      <td>Pixar Animation Studios</td>\n",
       "      <td>11/25/15</td>\n",
       "      <td>2015</td>\n",
       "      <td>0.0</td>\n",
       "      <td>0.0</td>\n",
       "    </tr>\n",
       "    <tr>\n",
       "      <th>441</th>\n",
       "      <td>0.220751</td>\n",
       "      <td>Winter on Fire: Ukraine's Fight for Freedom</td>\n",
       "      <td>NaN</td>\n",
       "      <td>Evgeny Afineevsky</td>\n",
       "      <td>98</td>\n",
       "      <td>Documentary</td>\n",
       "      <td>Passion Pictures|Campbell Grobman Films|Afinee...</td>\n",
       "      <td>10/9/15</td>\n",
       "      <td>2015</td>\n",
       "      <td>0.0</td>\n",
       "      <td>0.0</td>\n",
       "    </tr>\n",
       "    <tr>\n",
       "      <th>465</th>\n",
       "      <td>0.201696</td>\n",
       "      <td>Bitter Lake</td>\n",
       "      <td>NaN</td>\n",
       "      <td>Adam Curtis</td>\n",
       "      <td>135</td>\n",
       "      <td>Documentary</td>\n",
       "      <td>BBC</td>\n",
       "      <td>1/24/15</td>\n",
       "      <td>2015</td>\n",
       "      <td>0.0</td>\n",
       "      <td>0.0</td>\n",
       "    </tr>\n",
       "    <tr>\n",
       "      <th>536</th>\n",
       "      <td>0.122543</td>\n",
       "      <td>A Faster Horse</td>\n",
       "      <td>NaN</td>\n",
       "      <td>David Gelb</td>\n",
       "      <td>90</td>\n",
       "      <td>Documentary</td>\n",
       "      <td>NaN</td>\n",
       "      <td>10/8/15</td>\n",
       "      <td>2015</td>\n",
       "      <td>0.0</td>\n",
       "      <td>0.0</td>\n",
       "    </tr>\n",
       "    <tr>\n",
       "      <th>538</th>\n",
       "      <td>0.114264</td>\n",
       "      <td>The Mask You Live In</td>\n",
       "      <td>NaN</td>\n",
       "      <td>Jennifer Siebel Newsom</td>\n",
       "      <td>88</td>\n",
       "      <td>Documentary</td>\n",
       "      <td>NaN</td>\n",
       "      <td>1/1/15</td>\n",
       "      <td>2015</td>\n",
       "      <td>0.0</td>\n",
       "      <td>0.0</td>\n",
       "    </tr>\n",
       "  </tbody>\n",
       "</table>\n",
       "</div>"
      ],
      "text/plain": [
       "     popularity                               original_title cast  \\\n",
       "371    0.422901                          Sanjay's Super Team  NaN   \n",
       "441    0.220751  Winter on Fire: Ukraine's Fight for Freedom  NaN   \n",
       "465    0.201696                                  Bitter Lake  NaN   \n",
       "536    0.122543                               A Faster Horse  NaN   \n",
       "538    0.114264                         The Mask You Live In  NaN   \n",
       "\n",
       "                   director  runtime       genres  \\\n",
       "371            Sanjay Patel        7    Animation   \n",
       "441       Evgeny Afineevsky       98  Documentary   \n",
       "465             Adam Curtis      135  Documentary   \n",
       "536              David Gelb       90  Documentary   \n",
       "538  Jennifer Siebel Newsom       88  Documentary   \n",
       "\n",
       "                                  production_companies release_date  \\\n",
       "371                            Pixar Animation Studios     11/25/15   \n",
       "441  Passion Pictures|Campbell Grobman Films|Afinee...      10/9/15   \n",
       "465                                                BBC      1/24/15   \n",
       "536                                                NaN      10/8/15   \n",
       "538                                                NaN       1/1/15   \n",
       "\n",
       "     release_year  budget_adj  revenue_adj  \n",
       "371          2015         0.0          0.0  \n",
       "441          2015         0.0          0.0  \n",
       "465          2015         0.0          0.0  \n",
       "536          2015         0.0          0.0  \n",
       "538          2015         0.0          0.0  "
      ]
     },
     "execution_count": 5,
     "metadata": {},
     "output_type": "execute_result"
    }
   ],
   "source": [
    "dataset[dataset.cast.isnull()].head()"
   ]
  },
  {
   "cell_type": "code",
   "execution_count": 6,
   "metadata": {},
   "outputs": [
    {
     "data": {
      "text/plain": [
       "(76, 11)"
      ]
     },
     "execution_count": 6,
     "metadata": {},
     "output_type": "execute_result"
    }
   ],
   "source": [
    "dataset[dataset.cast.isnull()].shape"
   ]
  },
  {
   "cell_type": "markdown",
   "metadata": {},
   "source": [
    "We see that adjusted budget and revenue seem to be missing as well. (They cannot be zero!) \n",
    "Moreover, there are just 76 such items out of 10754, less than one percent. \n",
    "I therefore drop these entries in the following. "
   ]
  },
  {
   "cell_type": "code",
   "execution_count": 7,
   "metadata": {},
   "outputs": [
    {
     "name": "stdout",
     "output_type": "stream",
     "text": [
      "<class 'pandas.core.frame.DataFrame'>\n",
      "Int64Index: 10790 entries, 0 to 10865\n",
      "Data columns (total 11 columns):\n",
      "popularity              10790 non-null float64\n",
      "original_title          10790 non-null object\n",
      "cast                    10790 non-null object\n",
      "director                10752 non-null object\n",
      "runtime                 10790 non-null int64\n",
      "genres                  10768 non-null object\n",
      "production_companies    9800 non-null object\n",
      "release_date            10790 non-null object\n",
      "release_year            10790 non-null int64\n",
      "budget_adj              10790 non-null float64\n",
      "revenue_adj             10790 non-null float64\n",
      "dtypes: float64(3), int64(2), object(6)\n",
      "memory usage: 1011.6+ KB\n"
     ]
    }
   ],
   "source": [
    "dataset = dataset[pd.notnull(dataset['cast'])]\n",
    "dataset.info()"
   ]
  },
  {
   "cell_type": "markdown",
   "metadata": {},
   "source": [
    "#### Director"
   ]
  },
  {
   "cell_type": "markdown",
   "metadata": {},
   "source": [
    "The next missing field is 'director'. \n",
    "Let's have a look at the missing entries. "
   ]
  },
  {
   "cell_type": "code",
   "execution_count": 8,
   "metadata": {
    "scrolled": false
   },
   "outputs": [
    {
     "data": {
      "text/html": [
       "<div>\n",
       "<style scoped>\n",
       "    .dataframe tbody tr th:only-of-type {\n",
       "        vertical-align: middle;\n",
       "    }\n",
       "\n",
       "    .dataframe tbody tr th {\n",
       "        vertical-align: top;\n",
       "    }\n",
       "\n",
       "    .dataframe thead th {\n",
       "        text-align: right;\n",
       "    }\n",
       "</style>\n",
       "<table border=\"1\" class=\"dataframe\">\n",
       "  <thead>\n",
       "    <tr style=\"text-align: right;\">\n",
       "      <th></th>\n",
       "      <th>popularity</th>\n",
       "      <th>original_title</th>\n",
       "      <th>cast</th>\n",
       "      <th>director</th>\n",
       "      <th>runtime</th>\n",
       "      <th>genres</th>\n",
       "      <th>production_companies</th>\n",
       "      <th>release_date</th>\n",
       "      <th>release_year</th>\n",
       "      <th>budget_adj</th>\n",
       "      <th>revenue_adj</th>\n",
       "    </tr>\n",
       "  </thead>\n",
       "  <tbody>\n",
       "    <tr>\n",
       "      <th>532</th>\n",
       "      <td>0.126594</td>\n",
       "      <td>Iliza Shlesinger: Freezing Hot</td>\n",
       "      <td>Iliza Shlesinger</td>\n",
       "      <td>NaN</td>\n",
       "      <td>71</td>\n",
       "      <td>Comedy</td>\n",
       "      <td>New Wave Entertainment</td>\n",
       "      <td>1/23/15</td>\n",
       "      <td>2015</td>\n",
       "      <td>0.0</td>\n",
       "      <td>0.0</td>\n",
       "    </tr>\n",
       "    <tr>\n",
       "      <th>548</th>\n",
       "      <td>0.108072</td>\n",
       "      <td>Sense8: Creating the World</td>\n",
       "      <td>Tuppence Middleton|Bae Doona |Brian J. Smith|A...</td>\n",
       "      <td>NaN</td>\n",
       "      <td>25</td>\n",
       "      <td>Documentary|Science Fiction</td>\n",
       "      <td>Netflix</td>\n",
       "      <td>8/10/15</td>\n",
       "      <td>2015</td>\n",
       "      <td>0.0</td>\n",
       "      <td>0.0</td>\n",
       "    </tr>\n",
       "    <tr>\n",
       "      <th>556</th>\n",
       "      <td>0.100910</td>\n",
       "      <td>With This Ring</td>\n",
       "      <td>Regina Hall|Jill Scott|Eve|Brooklyn Sudano|Dei...</td>\n",
       "      <td>NaN</td>\n",
       "      <td>105</td>\n",
       "      <td>Comedy|Romance</td>\n",
       "      <td>Lifetime Television|Sony Pictures Television</td>\n",
       "      <td>1/24/15</td>\n",
       "      <td>2015</td>\n",
       "      <td>0.0</td>\n",
       "      <td>0.0</td>\n",
       "    </tr>\n",
       "    <tr>\n",
       "      <th>1032</th>\n",
       "      <td>0.291253</td>\n",
       "      <td>Marvel Studios: Assembling a Universe</td>\n",
       "      <td>Robert Downey Jr.|Chris Hemsworth|Chris Evans|...</td>\n",
       "      <td>NaN</td>\n",
       "      <td>43</td>\n",
       "      <td>TV Movie|Documentary</td>\n",
       "      <td>Marvel Studios|ABC Studios</td>\n",
       "      <td>3/18/14</td>\n",
       "      <td>2014</td>\n",
       "      <td>0.0</td>\n",
       "      <td>0.0</td>\n",
       "    </tr>\n",
       "    <tr>\n",
       "      <th>1054</th>\n",
       "      <td>0.269468</td>\n",
       "      <td>Unlocking Sherlock</td>\n",
       "      <td>Benedict Cumberbatch|Martin Freeman|Steven Mof...</td>\n",
       "      <td>NaN</td>\n",
       "      <td>60</td>\n",
       "      <td>TV Movie|Documentary</td>\n",
       "      <td>NaN</td>\n",
       "      <td>1/19/14</td>\n",
       "      <td>2014</td>\n",
       "      <td>0.0</td>\n",
       "      <td>0.0</td>\n",
       "    </tr>\n",
       "  </tbody>\n",
       "</table>\n",
       "</div>"
      ],
      "text/plain": [
       "      popularity                         original_title  \\\n",
       "532     0.126594         Iliza Shlesinger: Freezing Hot   \n",
       "548     0.108072             Sense8: Creating the World   \n",
       "556     0.100910                         With This Ring   \n",
       "1032    0.291253  Marvel Studios: Assembling a Universe   \n",
       "1054    0.269468                     Unlocking Sherlock   \n",
       "\n",
       "                                                   cast director  runtime  \\\n",
       "532                                    Iliza Shlesinger      NaN       71   \n",
       "548   Tuppence Middleton|Bae Doona |Brian J. Smith|A...      NaN       25   \n",
       "556   Regina Hall|Jill Scott|Eve|Brooklyn Sudano|Dei...      NaN      105   \n",
       "1032  Robert Downey Jr.|Chris Hemsworth|Chris Evans|...      NaN       43   \n",
       "1054  Benedict Cumberbatch|Martin Freeman|Steven Mof...      NaN       60   \n",
       "\n",
       "                           genres  \\\n",
       "532                        Comedy   \n",
       "548   Documentary|Science Fiction   \n",
       "556                Comedy|Romance   \n",
       "1032         TV Movie|Documentary   \n",
       "1054         TV Movie|Documentary   \n",
       "\n",
       "                              production_companies release_date  release_year  \\\n",
       "532                         New Wave Entertainment      1/23/15          2015   \n",
       "548                                        Netflix      8/10/15          2015   \n",
       "556   Lifetime Television|Sony Pictures Television      1/24/15          2015   \n",
       "1032                    Marvel Studios|ABC Studios      3/18/14          2014   \n",
       "1054                                           NaN      1/19/14          2014   \n",
       "\n",
       "      budget_adj  revenue_adj  \n",
       "532          0.0          0.0  \n",
       "548          0.0          0.0  \n",
       "556          0.0          0.0  \n",
       "1032         0.0          0.0  \n",
       "1054         0.0          0.0  "
      ]
     },
     "execution_count": 8,
     "metadata": {},
     "output_type": "execute_result"
    }
   ],
   "source": [
    "dataset[dataset.director.isnull()].head()"
   ]
  },
  {
   "cell_type": "code",
   "execution_count": 9,
   "metadata": {},
   "outputs": [
    {
     "data": {
      "text/plain": [
       "(38, 11)"
      ]
     },
     "execution_count": 9,
     "metadata": {},
     "output_type": "execute_result"
    }
   ],
   "source": [
    "dataset[dataset.director.isnull()].shape"
   ]
  },
  {
   "cell_type": "markdown",
   "metadata": {},
   "source": [
    "Budget and revenue are missing for these ones as well. \n",
    "There are just 38 of them. \n",
    "I shall remove them too. "
   ]
  },
  {
   "cell_type": "code",
   "execution_count": 10,
   "metadata": {},
   "outputs": [
    {
     "name": "stdout",
     "output_type": "stream",
     "text": [
      "<class 'pandas.core.frame.DataFrame'>\n",
      "Int64Index: 10752 entries, 0 to 10865\n",
      "Data columns (total 11 columns):\n",
      "popularity              10752 non-null float64\n",
      "original_title          10752 non-null object\n",
      "cast                    10752 non-null object\n",
      "director                10752 non-null object\n",
      "runtime                 10752 non-null int64\n",
      "genres                  10732 non-null object\n",
      "production_companies    9780 non-null object\n",
      "release_date            10752 non-null object\n",
      "release_year            10752 non-null int64\n",
      "budget_adj              10752 non-null float64\n",
      "revenue_adj             10752 non-null float64\n",
      "dtypes: float64(3), int64(2), object(6)\n",
      "memory usage: 1008.0+ KB\n"
     ]
    }
   ],
   "source": [
    "dataset = dataset[pd.notnull(dataset['director'])]\n",
    "dataset.info()"
   ]
  },
  {
   "cell_type": "markdown",
   "metadata": {},
   "source": [
    "#### Genre"
   ]
  },
  {
   "cell_type": "markdown",
   "metadata": {},
   "source": [
    "Some genre entries are missing. "
   ]
  },
  {
   "cell_type": "code",
   "execution_count": 11,
   "metadata": {
    "scrolled": true
   },
   "outputs": [
    {
     "data": {
      "text/html": [
       "<div>\n",
       "<style scoped>\n",
       "    .dataframe tbody tr th:only-of-type {\n",
       "        vertical-align: middle;\n",
       "    }\n",
       "\n",
       "    .dataframe tbody tr th {\n",
       "        vertical-align: top;\n",
       "    }\n",
       "\n",
       "    .dataframe thead th {\n",
       "        text-align: right;\n",
       "    }\n",
       "</style>\n",
       "<table border=\"1\" class=\"dataframe\">\n",
       "  <thead>\n",
       "    <tr style=\"text-align: right;\">\n",
       "      <th></th>\n",
       "      <th>popularity</th>\n",
       "      <th>original_title</th>\n",
       "      <th>cast</th>\n",
       "      <th>director</th>\n",
       "      <th>runtime</th>\n",
       "      <th>genres</th>\n",
       "      <th>production_companies</th>\n",
       "      <th>release_date</th>\n",
       "      <th>release_year</th>\n",
       "      <th>budget_adj</th>\n",
       "      <th>revenue_adj</th>\n",
       "    </tr>\n",
       "  </thead>\n",
       "  <tbody>\n",
       "    <tr>\n",
       "      <th>424</th>\n",
       "      <td>0.244648</td>\n",
       "      <td>Belli di papÃ</td>\n",
       "      <td>Diego Abatantuono|Matilde Gioli|Andrea Pisani|...</td>\n",
       "      <td>Guido Chiesa</td>\n",
       "      <td>100</td>\n",
       "      <td>NaN</td>\n",
       "      <td>NaN</td>\n",
       "      <td>10/29/15</td>\n",
       "      <td>2015</td>\n",
       "      <td>0.0</td>\n",
       "      <td>0.0</td>\n",
       "    </tr>\n",
       "    <tr>\n",
       "      <th>997</th>\n",
       "      <td>0.330431</td>\n",
       "      <td>Star Wars Rebels: Spark of Rebellion</td>\n",
       "      <td>Freddie Prinze Jr.|Vanessa Marshall|Steve Blum...</td>\n",
       "      <td>Steward Lee|Steven G. Lee</td>\n",
       "      <td>44</td>\n",
       "      <td>NaN</td>\n",
       "      <td>NaN</td>\n",
       "      <td>10/3/14</td>\n",
       "      <td>2014</td>\n",
       "      <td>0.0</td>\n",
       "      <td>0.0</td>\n",
       "    </tr>\n",
       "    <tr>\n",
       "      <th>1712</th>\n",
       "      <td>0.302095</td>\n",
       "      <td>Prayers for Bobby</td>\n",
       "      <td>Ryan Kelley|Sigourney Weaver|Henry Czerny|Dan ...</td>\n",
       "      <td>Russell Mulcahy</td>\n",
       "      <td>88</td>\n",
       "      <td>NaN</td>\n",
       "      <td>Daniel Sladek Entertainment</td>\n",
       "      <td>2/27/09</td>\n",
       "      <td>2009</td>\n",
       "      <td>0.0</td>\n",
       "      <td>0.0</td>\n",
       "    </tr>\n",
       "    <tr>\n",
       "      <th>1897</th>\n",
       "      <td>0.020701</td>\n",
       "      <td>Jonas Brothers: The Concert Experience</td>\n",
       "      <td>Nick Jonas|Joe Jonas|Kevin Jonas|John Lloyd Ta...</td>\n",
       "      <td>Bruce Hendricks</td>\n",
       "      <td>76</td>\n",
       "      <td>NaN</td>\n",
       "      <td>NaN</td>\n",
       "      <td>2/27/09</td>\n",
       "      <td>2009</td>\n",
       "      <td>0.0</td>\n",
       "      <td>0.0</td>\n",
       "    </tr>\n",
       "    <tr>\n",
       "      <th>2370</th>\n",
       "      <td>0.081892</td>\n",
       "      <td>Freshman Father</td>\n",
       "      <td>Britt Irvin|Merrilyn Gann|Barbara Tyson|Anthon...</td>\n",
       "      <td>Michael Scott</td>\n",
       "      <td>0</td>\n",
       "      <td>NaN</td>\n",
       "      <td>NaN</td>\n",
       "      <td>6/5/10</td>\n",
       "      <td>2010</td>\n",
       "      <td>0.0</td>\n",
       "      <td>0.0</td>\n",
       "    </tr>\n",
       "  </tbody>\n",
       "</table>\n",
       "</div>"
      ],
      "text/plain": [
       "      popularity                          original_title  \\\n",
       "424     0.244648                          Belli di papÃ    \n",
       "997     0.330431    Star Wars Rebels: Spark of Rebellion   \n",
       "1712    0.302095                       Prayers for Bobby   \n",
       "1897    0.020701  Jonas Brothers: The Concert Experience   \n",
       "2370    0.081892                         Freshman Father   \n",
       "\n",
       "                                                   cast  \\\n",
       "424   Diego Abatantuono|Matilde Gioli|Andrea Pisani|...   \n",
       "997   Freddie Prinze Jr.|Vanessa Marshall|Steve Blum...   \n",
       "1712  Ryan Kelley|Sigourney Weaver|Henry Czerny|Dan ...   \n",
       "1897  Nick Jonas|Joe Jonas|Kevin Jonas|John Lloyd Ta...   \n",
       "2370  Britt Irvin|Merrilyn Gann|Barbara Tyson|Anthon...   \n",
       "\n",
       "                       director  runtime genres         production_companies  \\\n",
       "424                Guido Chiesa      100    NaN                          NaN   \n",
       "997   Steward Lee|Steven G. Lee       44    NaN                          NaN   \n",
       "1712            Russell Mulcahy       88    NaN  Daniel Sladek Entertainment   \n",
       "1897            Bruce Hendricks       76    NaN                          NaN   \n",
       "2370              Michael Scott        0    NaN                          NaN   \n",
       "\n",
       "     release_date  release_year  budget_adj  revenue_adj  \n",
       "424      10/29/15          2015         0.0          0.0  \n",
       "997       10/3/14          2014         0.0          0.0  \n",
       "1712      2/27/09          2009         0.0          0.0  \n",
       "1897      2/27/09          2009         0.0          0.0  \n",
       "2370       6/5/10          2010         0.0          0.0  "
      ]
     },
     "execution_count": 11,
     "metadata": {},
     "output_type": "execute_result"
    }
   ],
   "source": [
    "dataset[dataset.genres.isnull()].head()"
   ]
  },
  {
   "cell_type": "code",
   "execution_count": 12,
   "metadata": {},
   "outputs": [
    {
     "data": {
      "text/plain": [
       "(20, 11)"
      ]
     },
     "execution_count": 12,
     "metadata": {},
     "output_type": "execute_result"
    }
   ],
   "source": [
    "dataset[dataset.genres.isnull()].shape"
   ]
  },
  {
   "cell_type": "markdown",
   "metadata": {},
   "source": [
    "And these too have missing budget and revenue and are few in numbers. \n",
    "Drop them!"
   ]
  },
  {
   "cell_type": "code",
   "execution_count": 13,
   "metadata": {
    "scrolled": false
   },
   "outputs": [
    {
     "name": "stdout",
     "output_type": "stream",
     "text": [
      "<class 'pandas.core.frame.DataFrame'>\n",
      "Int64Index: 10732 entries, 0 to 10865\n",
      "Data columns (total 11 columns):\n",
      "popularity              10732 non-null float64\n",
      "original_title          10732 non-null object\n",
      "cast                    10732 non-null object\n",
      "director                10732 non-null object\n",
      "runtime                 10732 non-null int64\n",
      "genres                  10732 non-null object\n",
      "production_companies    9773 non-null object\n",
      "release_date            10732 non-null object\n",
      "release_year            10732 non-null int64\n",
      "budget_adj              10732 non-null float64\n",
      "revenue_adj             10732 non-null float64\n",
      "dtypes: float64(3), int64(2), object(6)\n",
      "memory usage: 1006.1+ KB\n"
     ]
    }
   ],
   "source": [
    "dataset = dataset[pd.notnull(dataset['genres'])]\n",
    "dataset.info()"
   ]
  },
  {
   "cell_type": "markdown",
   "metadata": {},
   "source": [
    "#### Production company"
   ]
  },
  {
   "cell_type": "markdown",
   "metadata": {},
   "source": [
    "Curiously a significant muber of movies have their production company missing. \n",
    "Let's take a look. "
   ]
  },
  {
   "cell_type": "code",
   "execution_count": 14,
   "metadata": {
    "scrolled": true
   },
   "outputs": [
    {
     "data": {
      "text/html": [
       "<div>\n",
       "<style scoped>\n",
       "    .dataframe tbody tr th:only-of-type {\n",
       "        vertical-align: middle;\n",
       "    }\n",
       "\n",
       "    .dataframe tbody tr th {\n",
       "        vertical-align: top;\n",
       "    }\n",
       "\n",
       "    .dataframe thead th {\n",
       "        text-align: right;\n",
       "    }\n",
       "</style>\n",
       "<table border=\"1\" class=\"dataframe\">\n",
       "  <thead>\n",
       "    <tr style=\"text-align: right;\">\n",
       "      <th></th>\n",
       "      <th>popularity</th>\n",
       "      <th>original_title</th>\n",
       "      <th>cast</th>\n",
       "      <th>director</th>\n",
       "      <th>runtime</th>\n",
       "      <th>genres</th>\n",
       "      <th>production_companies</th>\n",
       "      <th>release_date</th>\n",
       "      <th>release_year</th>\n",
       "      <th>budget_adj</th>\n",
       "      <th>revenue_adj</th>\n",
       "    </tr>\n",
       "  </thead>\n",
       "  <tbody>\n",
       "    <tr>\n",
       "      <th>228</th>\n",
       "      <td>0.584363</td>\n",
       "      <td>Racing Extinction</td>\n",
       "      <td>Elon Musk|Jane Goodall|Louie Psihoyos|Leilani ...</td>\n",
       "      <td>Louie Psihoyos</td>\n",
       "      <td>90</td>\n",
       "      <td>Adventure|Documentary</td>\n",
       "      <td>NaN</td>\n",
       "      <td>1/24/15</td>\n",
       "      <td>2015</td>\n",
       "      <td>0.0</td>\n",
       "      <td>0.0</td>\n",
       "    </tr>\n",
       "    <tr>\n",
       "      <th>259</th>\n",
       "      <td>0.476341</td>\n",
       "      <td>Crown for Christmas</td>\n",
       "      <td>Danica McKellar|Rupert Penry-Jones|Ellie Botte...</td>\n",
       "      <td>Alex Zamm</td>\n",
       "      <td>84</td>\n",
       "      <td>TV Movie</td>\n",
       "      <td>NaN</td>\n",
       "      <td>11/27/15</td>\n",
       "      <td>2015</td>\n",
       "      <td>0.0</td>\n",
       "      <td>0.0</td>\n",
       "    </tr>\n",
       "    <tr>\n",
       "      <th>295</th>\n",
       "      <td>0.417191</td>\n",
       "      <td>12 Gifts of Christmas</td>\n",
       "      <td>Katrina Law|Donna Mills|Aaron O'Connell|Melani...</td>\n",
       "      <td>Peter Sullivan</td>\n",
       "      <td>84</td>\n",
       "      <td>Family|TV Movie</td>\n",
       "      <td>NaN</td>\n",
       "      <td>11/26/15</td>\n",
       "      <td>2015</td>\n",
       "      <td>0.0</td>\n",
       "      <td>0.0</td>\n",
       "    </tr>\n",
       "    <tr>\n",
       "      <th>298</th>\n",
       "      <td>0.370258</td>\n",
       "      <td>The Girl in the Photographs</td>\n",
       "      <td>Kal Penn|Claudia Lee|Kenny Wormald|Toby Heming...</td>\n",
       "      <td>Nick Simon</td>\n",
       "      <td>95</td>\n",
       "      <td>Crime|Horror|Thriller</td>\n",
       "      <td>NaN</td>\n",
       "      <td>9/14/15</td>\n",
       "      <td>2015</td>\n",
       "      <td>0.0</td>\n",
       "      <td>0.0</td>\n",
       "    </tr>\n",
       "    <tr>\n",
       "      <th>328</th>\n",
       "      <td>0.367617</td>\n",
       "      <td>Advantageous</td>\n",
       "      <td>Jacqueline Kim|James Urbaniak|Freya Adams|Ken ...</td>\n",
       "      <td>Jennifer Phang</td>\n",
       "      <td>92</td>\n",
       "      <td>Science Fiction|Drama|Family</td>\n",
       "      <td>NaN</td>\n",
       "      <td>6/23/15</td>\n",
       "      <td>2015</td>\n",
       "      <td>0.0</td>\n",
       "      <td>0.0</td>\n",
       "    </tr>\n",
       "  </tbody>\n",
       "</table>\n",
       "</div>"
      ],
      "text/plain": [
       "     popularity               original_title  \\\n",
       "228    0.584363            Racing Extinction   \n",
       "259    0.476341          Crown for Christmas   \n",
       "295    0.417191        12 Gifts of Christmas   \n",
       "298    0.370258  The Girl in the Photographs   \n",
       "328    0.367617                 Advantageous   \n",
       "\n",
       "                                                  cast        director  \\\n",
       "228  Elon Musk|Jane Goodall|Louie Psihoyos|Leilani ...  Louie Psihoyos   \n",
       "259  Danica McKellar|Rupert Penry-Jones|Ellie Botte...       Alex Zamm   \n",
       "295  Katrina Law|Donna Mills|Aaron O'Connell|Melani...  Peter Sullivan   \n",
       "298  Kal Penn|Claudia Lee|Kenny Wormald|Toby Heming...      Nick Simon   \n",
       "328  Jacqueline Kim|James Urbaniak|Freya Adams|Ken ...  Jennifer Phang   \n",
       "\n",
       "     runtime                        genres production_companies release_date  \\\n",
       "228       90         Adventure|Documentary                  NaN      1/24/15   \n",
       "259       84                      TV Movie                  NaN     11/27/15   \n",
       "295       84               Family|TV Movie                  NaN     11/26/15   \n",
       "298       95         Crime|Horror|Thriller                  NaN      9/14/15   \n",
       "328       92  Science Fiction|Drama|Family                  NaN      6/23/15   \n",
       "\n",
       "     release_year  budget_adj  revenue_adj  \n",
       "228          2015         0.0          0.0  \n",
       "259          2015         0.0          0.0  \n",
       "295          2015         0.0          0.0  \n",
       "298          2015         0.0          0.0  \n",
       "328          2015         0.0          0.0  "
      ]
     },
     "execution_count": 14,
     "metadata": {},
     "output_type": "execute_result"
    }
   ],
   "source": [
    "dataset[dataset.production_companies.isnull()].head()"
   ]
  },
  {
   "cell_type": "code",
   "execution_count": 15,
   "metadata": {},
   "outputs": [
    {
     "data": {
      "text/plain": [
       "(959, 11)"
      ]
     },
     "execution_count": 15,
     "metadata": {},
     "output_type": "execute_result"
    }
   ],
   "source": [
    "dataset[dataset.production_companies.isnull()].shape"
   ]
  },
  {
   "cell_type": "markdown",
   "metadata": {},
   "source": [
    "While the budget and revenue information are missing for these ones as well, they are quite large in number. \n",
    "I shall keep them for now. \n",
    "I shall disregard them while exploring revenue. "
   ]
  },
  {
   "cell_type": "markdown",
   "metadata": {},
   "source": [
    "<a id='explore'></a>\n",
    "## Exploratory data analysis  "
   ]
  },
  {
   "cell_type": "markdown",
   "metadata": {},
   "source": [
    "### 1. Popularity"
   ]
  },
  {
   "cell_type": "markdown",
   "metadata": {},
   "source": [
    "Let's start with popularity. \n",
    "Because it is a float, we start with histogram analysis. \n",
    "Our goal here is to see the distribution of popularity across movies. "
   ]
  },
  {
   "cell_type": "code",
   "execution_count": 16,
   "metadata": {
    "scrolled": true
   },
   "outputs": [
    {
     "data": {
      "image/png": "[encoded data removed]",
      "text/plain": [
       "<Figure size 432x288 with 1 Axes>"
      ]
     },
     "metadata": {},
     "output_type": "display_data"
    }
   ],
   "source": [
    "dataset.popularity.hist()\n",
    "plt.xlabel('Popularity')\n",
    "plt.ylabel('Counts')\n",
    "plt.title('Distribution of popularity');"
   ]
  },
  {
   "cell_type": "markdown",
   "metadata": {},
   "source": [
    "It seems like there are a outlies which have skewed the distribution. \n",
    "To confirm this I use boxplot in the following with the \"definite\" outliers marked red. "
   ]
  },
  {
   "cell_type": "code",
   "execution_count": 17,
   "metadata": {
    "scrolled": true
   },
   "outputs": [
    {
     "data": {
      "image/png": "[encoded data removed]",
      "text/plain": [
       "<Figure size 432x288 with 1 Axes>"
      ]
     },
     "metadata": {},
     "output_type": "display_data"
    }
   ],
   "source": [
    "dataset.popularity.plot(kind='box', vert=False, sym='r')\n",
    "plt.xlabel('Popularity')\n",
    "plt.title('Boxplot of popularity');"
   ]
  },
  {
   "cell_type": "markdown",
   "metadata": {},
   "source": [
    "This confirms my suspicion about outliers. \n",
    "The outliers are the most popular movies in the database. \n",
    "For the time-being I am interested in the distribution of *typical* popularity values. \n",
    "To identify the typical points in shall use the five-point summary. "
   ]
  },
  {
   "cell_type": "code",
   "execution_count": 18,
   "metadata": {
    "scrolled": false
   },
   "outputs": [
    {
     "data": {
      "text/plain": [
       "count    10732.000000\n",
       "mean         0.652609\n",
       "std          1.004757\n",
       "min          0.000188\n",
       "25%          0.210766\n",
       "50%          0.387136\n",
       "75%          0.720621\n",
       "max         32.985763\n",
       "Name: popularity, dtype: float64"
      ]
     },
     "execution_count": 18,
     "metadata": {},
     "output_type": "execute_result"
    }
   ],
   "source": [
    "dataset.popularity.describe()"
   ]
  },
  {
   "cell_type": "markdown",
   "metadata": {},
   "source": [
    "#### Regular"
   ]
  },
  {
   "cell_type": "markdown",
   "metadata": {},
   "source": [
    "We shall now determine inner fences in boxplot to select the typical (regular) values. "
   ]
  },
  {
   "cell_type": "code",
   "execution_count": 19,
   "metadata": {},
   "outputs": [
    {
     "data": {
      "text/plain": [
       "(9796, 11)"
      ]
     },
     "execution_count": 19,
     "metadata": {},
     "output_type": "execute_result"
    }
   ],
   "source": [
    "# Quartiles and fences\n",
    "q1_pop = dataset.popularity.describe()['25%']\n",
    "q3_pop = dataset.popularity.describe()['75%']\n",
    "iqr_pop = q3_pop - q1_pop\n",
    "fence_low_pop = q1_pop - 1.5 * iqr_pop \n",
    "fence_high_pop = q3_pop + 1.5 * iqr_pop\n",
    "\n",
    "# Regular and outlier samples\n",
    "dataset_pop_reg = dataset.query('popularity > {} and popularity < {}'.format(fence_low_pop, fence_high_pop))\n",
    "dataset_pop_out = dataset.query('popularity < {} or popularity > {}'.format(fence_low_pop, fence_high_pop))\n",
    "dataset_pop_reg.shape"
   ]
  },
  {
   "cell_type": "markdown",
   "metadata": {},
   "source": [
    "We now plot the histogram of typical values of popularity. "
   ]
  },
  {
   "cell_type": "code",
   "execution_count": 20,
   "metadata": {
    "scrolled": false
   },
   "outputs": [
    {
     "data": {
      "image/png": "[encoded data removed]",
      "text/plain": [
       "<Figure size 432x288 with 1 Axes>"
      ]
     },
     "metadata": {},
     "output_type": "display_data"
    }
   ],
   "source": [
    "dataset_pop_reg.popularity.plot.hist(bins=20)\n",
    "plt.xlabel('Popularity')\n",
    "plt.title('Distribution of \"regular\" values of popularity');"
   ]
  },
  {
   "cell_type": "markdown",
   "metadata": {},
   "source": [
    "We see that the typical value of popularity as around 0.3. \n",
    "It is however heavily skewed to the right, meaning that more than half of the movies have popularity greater than this. \n",
    "To get more exact figures we generate the statistics. "
   ]
  },
  {
   "cell_type": "code",
   "execution_count": 21,
   "metadata": {},
   "outputs": [
    {
     "data": {
      "text/plain": [
       "count    9796.000000\n",
       "mean        0.438906\n",
       "std         0.325973\n",
       "min         0.000188\n",
       "25%         0.198252\n",
       "50%         0.351092\n",
       "75%         0.595587\n",
       "max         1.483329\n",
       "Name: popularity, dtype: float64"
      ]
     },
     "execution_count": 21,
     "metadata": {},
     "output_type": "execute_result"
    }
   ],
   "source": [
    "dataset_pop_reg.popularity.describe()"
   ]
  },
  {
   "cell_type": "markdown",
   "metadata": {},
   "source": [
    "#### Top 10!"
   ]
  },
  {
   "cell_type": "markdown",
   "metadata": {},
   "source": [
    "What are the top ten movies in terms of popularity? \n",
    "This relates to our first few questions. \n",
    "In the following we shall explore features associated with the most popular movies in the list. "
   ]
  },
  {
   "cell_type": "code",
   "execution_count": 22,
   "metadata": {},
   "outputs": [
    {
     "data": {
      "text/html": [
       "<div>\n",
       "<style scoped>\n",
       "    .dataframe tbody tr th:only-of-type {\n",
       "        vertical-align: middle;\n",
       "    }\n",
       "\n",
       "    .dataframe tbody tr th {\n",
       "        vertical-align: top;\n",
       "    }\n",
       "\n",
       "    .dataframe thead th {\n",
       "        text-align: right;\n",
       "    }\n",
       "</style>\n",
       "<table border=\"1\" class=\"dataframe\">\n",
       "  <thead>\n",
       "    <tr style=\"text-align: right;\">\n",
       "      <th></th>\n",
       "      <th>popularity</th>\n",
       "      <th>original_title</th>\n",
       "      <th>cast</th>\n",
       "      <th>director</th>\n",
       "      <th>runtime</th>\n",
       "      <th>genres</th>\n",
       "      <th>production_companies</th>\n",
       "      <th>release_date</th>\n",
       "      <th>release_year</th>\n",
       "      <th>budget_adj</th>\n",
       "      <th>revenue_adj</th>\n",
       "    </tr>\n",
       "  </thead>\n",
       "  <tbody>\n",
       "    <tr>\n",
       "      <th>0</th>\n",
       "      <td>32.985763</td>\n",
       "      <td>Jurassic World</td>\n",
       "      <td>Chris Pratt|Bryce Dallas Howard|Irrfan Khan|Vi...</td>\n",
       "      <td>Colin Trevorrow</td>\n",
       "      <td>124</td>\n",
       "      <td>Action|Adventure|Science Fiction|Thriller</td>\n",
       "      <td>Universal Studios|Amblin Entertainment|Legenda...</td>\n",
       "      <td>6/9/15</td>\n",
       "      <td>2015</td>\n",
       "      <td>1.379999e+08</td>\n",
       "      <td>1.392446e+09</td>\n",
       "    </tr>\n",
       "    <tr>\n",
       "      <th>1</th>\n",
       "      <td>28.419936</td>\n",
       "      <td>Mad Max: Fury Road</td>\n",
       "      <td>Tom Hardy|Charlize Theron|Hugh Keays-Byrne|Nic...</td>\n",
       "      <td>George Miller</td>\n",
       "      <td>120</td>\n",
       "      <td>Action|Adventure|Science Fiction|Thriller</td>\n",
       "      <td>Village Roadshow Pictures|Kennedy Miller Produ...</td>\n",
       "      <td>5/13/15</td>\n",
       "      <td>2015</td>\n",
       "      <td>1.379999e+08</td>\n",
       "      <td>3.481613e+08</td>\n",
       "    </tr>\n",
       "    <tr>\n",
       "      <th>629</th>\n",
       "      <td>24.949134</td>\n",
       "      <td>Interstellar</td>\n",
       "      <td>Matthew McConaughey|Jessica Chastain|Anne Hath...</td>\n",
       "      <td>Christopher Nolan</td>\n",
       "      <td>169</td>\n",
       "      <td>Adventure|Drama|Science Fiction</td>\n",
       "      <td>Paramount Pictures|Legendary Pictures|Warner B...</td>\n",
       "      <td>11/5/14</td>\n",
       "      <td>2014</td>\n",
       "      <td>1.519800e+08</td>\n",
       "      <td>5.726906e+08</td>\n",
       "    </tr>\n",
       "    <tr>\n",
       "      <th>630</th>\n",
       "      <td>14.311205</td>\n",
       "      <td>Guardians of the Galaxy</td>\n",
       "      <td>Chris Pratt|Zoe Saldana|Dave Bautista|Vin Dies...</td>\n",
       "      <td>James Gunn</td>\n",
       "      <td>121</td>\n",
       "      <td>Action|Science Fiction|Adventure</td>\n",
       "      <td>Marvel Studios|Moving Picture Company (MPC)|Bu...</td>\n",
       "      <td>7/30/14</td>\n",
       "      <td>2014</td>\n",
       "      <td>1.565855e+08</td>\n",
       "      <td>7.122911e+08</td>\n",
       "    </tr>\n",
       "    <tr>\n",
       "      <th>2</th>\n",
       "      <td>13.112507</td>\n",
       "      <td>Insurgent</td>\n",
       "      <td>Shailene Woodley|Theo James|Kate Winslet|Ansel...</td>\n",
       "      <td>Robert Schwentke</td>\n",
       "      <td>119</td>\n",
       "      <td>Adventure|Science Fiction|Thriller</td>\n",
       "      <td>Summit Entertainment|Mandeville Films|Red Wago...</td>\n",
       "      <td>3/18/15</td>\n",
       "      <td>2015</td>\n",
       "      <td>1.012000e+08</td>\n",
       "      <td>2.716190e+08</td>\n",
       "    </tr>\n",
       "    <tr>\n",
       "      <th>631</th>\n",
       "      <td>12.971027</td>\n",
       "      <td>Captain America: The Winter Soldier</td>\n",
       "      <td>Chris Evans|Scarlett Johansson|Sebastian Stan|...</td>\n",
       "      <td>Joe Russo|Anthony Russo</td>\n",
       "      <td>136</td>\n",
       "      <td>Action|Adventure|Science Fiction</td>\n",
       "      <td>Marvel Studios</td>\n",
       "      <td>3/20/14</td>\n",
       "      <td>2014</td>\n",
       "      <td>1.565855e+08</td>\n",
       "      <td>6.583651e+08</td>\n",
       "    </tr>\n",
       "    <tr>\n",
       "      <th>1329</th>\n",
       "      <td>12.037933</td>\n",
       "      <td>Star Wars</td>\n",
       "      <td>Mark Hamill|Harrison Ford|Carrie Fisher|Peter ...</td>\n",
       "      <td>George Lucas</td>\n",
       "      <td>121</td>\n",
       "      <td>Adventure|Action|Science Fiction</td>\n",
       "      <td>Lucasfilm|Twentieth Century Fox Film Corporation</td>\n",
       "      <td>3/20/77</td>\n",
       "      <td>1977</td>\n",
       "      <td>3.957559e+07</td>\n",
       "      <td>2.789712e+09</td>\n",
       "    </tr>\n",
       "    <tr>\n",
       "      <th>632</th>\n",
       "      <td>11.422751</td>\n",
       "      <td>John Wick</td>\n",
       "      <td>Keanu Reeves|Michael Nyqvist|Alfie Allen|Wille...</td>\n",
       "      <td>Chad Stahelski|David Leitch</td>\n",
       "      <td>101</td>\n",
       "      <td>Action|Thriller</td>\n",
       "      <td>Thunder Road Pictures|Warner Bros.|87Eleven|De...</td>\n",
       "      <td>10/22/14</td>\n",
       "      <td>2014</td>\n",
       "      <td>1.842182e+07</td>\n",
       "      <td>7.252661e+07</td>\n",
       "    </tr>\n",
       "    <tr>\n",
       "      <th>3</th>\n",
       "      <td>11.173104</td>\n",
       "      <td>Star Wars: The Force Awakens</td>\n",
       "      <td>Harrison Ford|Mark Hamill|Carrie Fisher|Adam D...</td>\n",
       "      <td>J.J. Abrams</td>\n",
       "      <td>136</td>\n",
       "      <td>Action|Adventure|Science Fiction|Fantasy</td>\n",
       "      <td>Lucasfilm|Truenorth Productions|Bad Robot</td>\n",
       "      <td>12/15/15</td>\n",
       "      <td>2015</td>\n",
       "      <td>1.839999e+08</td>\n",
       "      <td>1.902723e+09</td>\n",
       "    </tr>\n",
       "    <tr>\n",
       "      <th>633</th>\n",
       "      <td>10.739009</td>\n",
       "      <td>The Hunger Games: Mockingjay - Part 1</td>\n",
       "      <td>Jennifer Lawrence|Josh Hutcherson|Liam Hemswor...</td>\n",
       "      <td>Francis Lawrence</td>\n",
       "      <td>123</td>\n",
       "      <td>Science Fiction|Adventure|Thriller</td>\n",
       "      <td>Lionsgate|Color Force</td>\n",
       "      <td>11/18/14</td>\n",
       "      <td>2014</td>\n",
       "      <td>1.151364e+08</td>\n",
       "      <td>6.927528e+08</td>\n",
       "    </tr>\n",
       "  </tbody>\n",
       "</table>\n",
       "</div>"
      ],
      "text/plain": [
       "      popularity                         original_title  \\\n",
       "0      32.985763                         Jurassic World   \n",
       "1      28.419936                     Mad Max: Fury Road   \n",
       "629    24.949134                           Interstellar   \n",
       "630    14.311205                Guardians of the Galaxy   \n",
       "2      13.112507                              Insurgent   \n",
       "631    12.971027    Captain America: The Winter Soldier   \n",
       "1329   12.037933                              Star Wars   \n",
       "632    11.422751                              John Wick   \n",
       "3      11.173104           Star Wars: The Force Awakens   \n",
       "633    10.739009  The Hunger Games: Mockingjay - Part 1   \n",
       "\n",
       "                                                   cast  \\\n",
       "0     Chris Pratt|Bryce Dallas Howard|Irrfan Khan|Vi...   \n",
       "1     Tom Hardy|Charlize Theron|Hugh Keays-Byrne|Nic...   \n",
       "629   Matthew McConaughey|Jessica Chastain|Anne Hath...   \n",
       "630   Chris Pratt|Zoe Saldana|Dave Bautista|Vin Dies...   \n",
       "2     Shailene Woodley|Theo James|Kate Winslet|Ansel...   \n",
       "631   Chris Evans|Scarlett Johansson|Sebastian Stan|...   \n",
       "1329  Mark Hamill|Harrison Ford|Carrie Fisher|Peter ...   \n",
       "632   Keanu Reeves|Michael Nyqvist|Alfie Allen|Wille...   \n",
       "3     Harrison Ford|Mark Hamill|Carrie Fisher|Adam D...   \n",
       "633   Jennifer Lawrence|Josh Hutcherson|Liam Hemswor...   \n",
       "\n",
       "                         director  runtime  \\\n",
       "0                 Colin Trevorrow      124   \n",
       "1                   George Miller      120   \n",
       "629             Christopher Nolan      169   \n",
       "630                    James Gunn      121   \n",
       "2                Robert Schwentke      119   \n",
       "631       Joe Russo|Anthony Russo      136   \n",
       "1329                 George Lucas      121   \n",
       "632   Chad Stahelski|David Leitch      101   \n",
       "3                     J.J. Abrams      136   \n",
       "633              Francis Lawrence      123   \n",
       "\n",
       "                                         genres  \\\n",
       "0     Action|Adventure|Science Fiction|Thriller   \n",
       "1     Action|Adventure|Science Fiction|Thriller   \n",
       "629             Adventure|Drama|Science Fiction   \n",
       "630            Action|Science Fiction|Adventure   \n",
       "2            Adventure|Science Fiction|Thriller   \n",
       "631            Action|Adventure|Science Fiction   \n",
       "1329           Adventure|Action|Science Fiction   \n",
       "632                             Action|Thriller   \n",
       "3      Action|Adventure|Science Fiction|Fantasy   \n",
       "633          Science Fiction|Adventure|Thriller   \n",
       "\n",
       "                                   production_companies release_date  \\\n",
       "0     Universal Studios|Amblin Entertainment|Legenda...       6/9/15   \n",
       "1     Village Roadshow Pictures|Kennedy Miller Produ...      5/13/15   \n",
       "629   Paramount Pictures|Legendary Pictures|Warner B...      11/5/14   \n",
       "630   Marvel Studios|Moving Picture Company (MPC)|Bu...      7/30/14   \n",
       "2     Summit Entertainment|Mandeville Films|Red Wago...      3/18/15   \n",
       "631                                      Marvel Studios      3/20/14   \n",
       "1329   Lucasfilm|Twentieth Century Fox Film Corporation      3/20/77   \n",
       "632   Thunder Road Pictures|Warner Bros.|87Eleven|De...     10/22/14   \n",
       "3             Lucasfilm|Truenorth Productions|Bad Robot     12/15/15   \n",
       "633                               Lionsgate|Color Force     11/18/14   \n",
       "\n",
       "      release_year    budget_adj   revenue_adj  \n",
       "0             2015  1.379999e+08  1.392446e+09  \n",
       "1             2015  1.379999e+08  3.481613e+08  \n",
       "629           2014  1.519800e+08  5.726906e+08  \n",
       "630           2014  1.565855e+08  7.122911e+08  \n",
       "2             2015  1.012000e+08  2.716190e+08  \n",
       "631           2014  1.565855e+08  6.583651e+08  \n",
       "1329          1977  3.957559e+07  2.789712e+09  \n",
       "632           2014  1.842182e+07  7.252661e+07  \n",
       "3             2015  1.839999e+08  1.902723e+09  \n",
       "633           2014  1.151364e+08  6.927528e+08  "
      ]
     },
     "execution_count": 22,
     "metadata": {},
     "output_type": "execute_result"
    }
   ],
   "source": [
    "dataset.sort_values(by='popularity', ascending=False).head(10)"
   ]
  },
  {
   "cell_type": "markdown",
   "metadata": {},
   "source": [
    "The list definitely makes sense (although I was somewhat surprised by the entry john Wick!). \n",
    "This also answer to the first question: **What are the most popular movies of all time?** \n",
    "In the following we explore the numerical features of these movies to answer our second question: **What are the features associated with these movies?**"
   ]
  },
  {
   "cell_type": "code",
   "execution_count": 23,
   "metadata": {
    "scrolled": true
   },
   "outputs": [
    {
     "data": {
      "text/html": [
       "<div>\n",
       "<style scoped>\n",
       "    .dataframe tbody tr th:only-of-type {\n",
       "        vertical-align: middle;\n",
       "    }\n",
       "\n",
       "    .dataframe tbody tr th {\n",
       "        vertical-align: top;\n",
       "    }\n",
       "\n",
       "    .dataframe thead th {\n",
       "        text-align: right;\n",
       "    }\n",
       "</style>\n",
       "<table border=\"1\" class=\"dataframe\">\n",
       "  <thead>\n",
       "    <tr style=\"text-align: right;\">\n",
       "      <th></th>\n",
       "      <th>popularity</th>\n",
       "      <th>runtime</th>\n",
       "      <th>release_year</th>\n",
       "      <th>budget_adj</th>\n",
       "      <th>revenue_adj</th>\n",
       "    </tr>\n",
       "  </thead>\n",
       "  <tbody>\n",
       "    <tr>\n",
       "      <th>count</th>\n",
       "      <td>10.000000</td>\n",
       "      <td>10.000000</td>\n",
       "      <td>10.000000</td>\n",
       "      <td>1.000000e+01</td>\n",
       "      <td>1.000000e+01</td>\n",
       "    </tr>\n",
       "    <tr>\n",
       "      <th>mean</th>\n",
       "      <td>17.212237</td>\n",
       "      <td>127.000000</td>\n",
       "      <td>2010.700000</td>\n",
       "      <td>1.199485e+08</td>\n",
       "      <td>9.413288e+08</td>\n",
       "    </tr>\n",
       "    <tr>\n",
       "      <th>std</th>\n",
       "      <td>8.274145</td>\n",
       "      <td>17.676098</td>\n",
       "      <td>11.851395</td>\n",
       "      <td>5.334061e+07</td>\n",
       "      <td>8.452280e+08</td>\n",
       "    </tr>\n",
       "    <tr>\n",
       "      <th>min</th>\n",
       "      <td>10.739009</td>\n",
       "      <td>101.000000</td>\n",
       "      <td>1977.000000</td>\n",
       "      <td>1.842182e+07</td>\n",
       "      <td>7.252661e+07</td>\n",
       "    </tr>\n",
       "    <tr>\n",
       "      <th>25%</th>\n",
       "      <td>11.576547</td>\n",
       "      <td>120.250000</td>\n",
       "      <td>2014.000000</td>\n",
       "      <td>1.046841e+08</td>\n",
       "      <td>4.042936e+08</td>\n",
       "    </tr>\n",
       "    <tr>\n",
       "      <th>50%</th>\n",
       "      <td>13.041767</td>\n",
       "      <td>122.000000</td>\n",
       "      <td>2014.000000</td>\n",
       "      <td>1.379999e+08</td>\n",
       "      <td>6.755589e+08</td>\n",
       "    </tr>\n",
       "    <tr>\n",
       "      <th>75%</th>\n",
       "      <td>22.289652</td>\n",
       "      <td>133.000000</td>\n",
       "      <td>2015.000000</td>\n",
       "      <td>1.554341e+08</td>\n",
       "      <td>1.222407e+09</td>\n",
       "    </tr>\n",
       "    <tr>\n",
       "      <th>max</th>\n",
       "      <td>32.985763</td>\n",
       "      <td>169.000000</td>\n",
       "      <td>2015.000000</td>\n",
       "      <td>1.839999e+08</td>\n",
       "      <td>2.789712e+09</td>\n",
       "    </tr>\n",
       "  </tbody>\n",
       "</table>\n",
       "</div>"
      ],
      "text/plain": [
       "       popularity     runtime  release_year    budget_adj   revenue_adj\n",
       "count   10.000000   10.000000     10.000000  1.000000e+01  1.000000e+01\n",
       "mean    17.212237  127.000000   2010.700000  1.199485e+08  9.413288e+08\n",
       "std      8.274145   17.676098     11.851395  5.334061e+07  8.452280e+08\n",
       "min     10.739009  101.000000   1977.000000  1.842182e+07  7.252661e+07\n",
       "25%     11.576547  120.250000   2014.000000  1.046841e+08  4.042936e+08\n",
       "50%     13.041767  122.000000   2014.000000  1.379999e+08  6.755589e+08\n",
       "75%     22.289652  133.000000   2015.000000  1.554341e+08  1.222407e+09\n",
       "max     32.985763  169.000000   2015.000000  1.839999e+08  2.789712e+09"
      ]
     },
     "execution_count": 23,
     "metadata": {},
     "output_type": "execute_result"
    }
   ],
   "source": [
    "dataset.sort_values(by='popularity', ascending=False).head(10).describe()"
   ]
  },
  {
   "cell_type": "markdown",
   "metadata": {},
   "source": [
    "These are the numerical characteristics of the top ten popular movies. \n",
    "Their runtime seems to a slightly high compared to other movies. \n",
    "All of them are pretty recent with the exception of Star Wars (not surprisingly). \n",
    "They all are high-budget movies the minimum being around 10 million USD and the median being around 140 million USD. \n",
    "All them earned more than 70 million USD the highest one reaching almost 2.8 billion USD (Star Wars!). "
   ]
  },
  {
   "cell_type": "markdown",
   "metadata": {},
   "source": [
    "#### Popular movie directors"
   ]
  },
  {
   "cell_type": "markdown",
   "metadata": {},
   "source": [
    "**Who are the most popular movie directors?** (Third question.) \n",
    "There is no unique way to answer this, at least in terms of ranking. \n",
    "I could just choose the directors of most popular movies and rank them according to the movies. \n",
    "But this will be injustcie to directors who have many movies which are popular. \n",
    "In the following I have considered 100 most popular movies and counted the directors. \n",
    "Quentin Tanation and Christopher Nolan come on top, each delivering 5 among the 100 most popular movies. "
   ]
  },
  {
   "cell_type": "code",
   "execution_count": 24,
   "metadata": {
    "scrolled": true
   },
   "outputs": [
    {
     "data": {
      "text/plain": [
       "Christopher Nolan    5\n",
       "Quentin Tarantino    5\n",
       "David Yates          4\n",
       "Peter Jackson        4\n",
       "Chris Columbus       3\n",
       "Francis Lawrence     3\n",
       "Gore Verbinski       2\n",
       "Jon Favreau          2\n",
       "David Fincher        2\n",
       "Ridley Scott         2\n",
       "Name: director, dtype: int64"
      ]
     },
     "execution_count": 24,
     "metadata": {},
     "output_type": "execute_result"
    }
   ],
   "source": [
    "dataset.sort_values(by='popularity', ascending=False).head(100).director.value_counts()[:10]"
   ]
  },
  {
   "cell_type": "markdown",
   "metadata": {},
   "source": [
    "### 2. Revenue"
   ]
  },
  {
   "cell_type": "markdown",
   "metadata": {},
   "source": [
    "In our discussions on popularity, we saw that popular movies tend to make good money too. \n",
    "In this part we shall explore the distribution of revenue across the movies in the database. \n",
    "But first, lt us remember that there are many zero entries in the field. \n",
    "Let us first see how many of them are there. "
   ]
  },
  {
   "cell_type": "code",
   "execution_count": 25,
   "metadata": {},
   "outputs": [
    {
     "data": {
      "text/plain": [
       "(5888, 11)"
      ]
     },
     "execution_count": 25,
     "metadata": {},
     "output_type": "execute_result"
    }
   ],
   "source": [
    "dataset.query('revenue_adj == 0').shape"
   ]
  },
  {
   "cell_type": "markdown",
   "metadata": {},
   "source": [
    "There's a lot of zeros! \n",
    "Nevertheless, we still have more than 4000 movies with information on revenue. \n",
    "We create a dataframe for the latter movies and explore. "
   ]
  },
  {
   "cell_type": "markdown",
   "metadata": {},
   "source": [
    "#### Revenue proper"
   ]
  },
  {
   "cell_type": "code",
   "execution_count": 26,
   "metadata": {},
   "outputs": [
    {
     "data": {
      "image/png": "[encoded data removed]",
      "text/plain": [
       "<Figure size 432x288 with 1 Axes>"
      ]
     },
     "metadata": {},
     "output_type": "display_data"
    }
   ],
   "source": [
    "dataset_rev = dataset.query('revenue_adj > 0')\n",
    "dataset_rev.revenue_adj.hist()\n",
    "plt.xlabel('Revenue (in 2010 USD)')\n",
    "plt.ylabel('Counts')\n",
    "plt.title('Distribution of revenue');"
   ]
  },
  {
   "cell_type": "markdown",
   "metadata": {},
   "source": [
    "We see that here too the distribution is affected by the presence of outliers. \n",
    "To get a visual sense, we use boxplot as before. "
   ]
  },
  {
   "cell_type": "code",
   "execution_count": 27,
   "metadata": {
    "scrolled": true
   },
   "outputs": [
    {
     "data": {
      "image/png": "[encoded data removed]",
      "text/plain": [
       "<Figure size 432x288 with 1 Axes>"
      ]
     },
     "metadata": {},
     "output_type": "display_data"
    }
   ],
   "source": [
    "dataset.revenue_adj.plot.box(vert=False, sym='r')\n",
    "plt.xlabel('Revenue (in 2010 USD)')\n",
    "plt.title('Boxplot of revenue');"
   ]
  },
  {
   "cell_type": "markdown",
   "metadata": {},
   "source": [
    "So there are many outliers. \n",
    "To get a distribution for the regular entries, I use the parameters of boxplot to separate the outliers. \n",
    "This is the same procedure as was the case with popularity. "
   ]
  },
  {
   "cell_type": "code",
   "execution_count": 28,
   "metadata": {},
   "outputs": [
    {
     "data": {
      "text/plain": [
       "(4373, 11)"
      ]
     },
     "execution_count": 28,
     "metadata": {},
     "output_type": "execute_result"
    }
   ],
   "source": [
    "# quartiles\n",
    "q1_rev = dataset_rev.revenue_adj.describe()['25%']\n",
    "q3_rev = dataset_rev.revenue_adj.describe()['75%']\n",
    "\n",
    "# interquartile range\n",
    "iqr_rev = q3_rev - q1_rev\n",
    "\n",
    "# fences\n",
    "fence_low_rev  = q1_rev - 1.5 * iqr_rev \n",
    "fence_high_rev = q3_rev + 1.5 * iqr_rev\n",
    "\n",
    "# Regular and outlier samples\n",
    "dataset_rev_reg = dataset_rev.query('revenue_adj > {} and revenue_adj < {}'.format(fence_low_rev, fence_high_rev))\n",
    "dataset_rev_out = dataset_rev.query('revenue_adj < {} or revenue_adj > {}'.format(fence_low_rev, fence_high_rev))\n",
    "\n",
    "# shape of the regular dataset\n",
    "dataset_rev_reg.shape"
   ]
  },
  {
   "cell_type": "code",
   "execution_count": 29,
   "metadata": {},
   "outputs": [
    {
     "data": {
      "image/png": "[encoded data removed]",
      "text/plain": [
       "<Figure size 432x288 with 1 Axes>"
      ]
     },
     "metadata": {},
     "output_type": "display_data"
    }
   ],
   "source": [
    "dataset_rev_reg = dataset_rev.query('revenue_adj > {} and revenue_adj < {}'.format(fence_low_rev, fence_high_rev))\n",
    "dataset_rev_reg.revenue_adj.plot.hist(bins=20)\n",
    "plt.xlabel('Revenue (in 2010 USD)')\n",
    "plt.title('Distribution of available revenue');"
   ]
  },
  {
   "cell_type": "markdown",
   "metadata": {},
   "source": [
    "We see that unlike popularity histogram, there is no peak in the revenue distribution. \n",
    "It's more skewed. \n",
    "This also answers our fourth question: **How is the revenue distribution?** \n",
    "From the above distribution I wondered if the same is true for the top-grossing movies (outliers). "
   ]
  },
  {
   "cell_type": "code",
   "execution_count": 30,
   "metadata": {
    "scrolled": false
   },
   "outputs": [
    {
     "data": {
      "image/png": "[encoded data removed]",
      "text/plain": [
       "<Figure size 432x288 with 1 Axes>"
      ]
     },
     "metadata": {},
     "output_type": "display_data"
    }
   ],
   "source": [
    "dataset_rev_out = dataset_rev.query('revenue_adj < {} or revenue_adj > {}'.format(fence_low_rev, fence_high_rev))\n",
    "dataset_rev_out.revenue_adj.plot.hist(bins=20)\n",
    "plt.xlabel('Revenue (in 2010 USD)')\n",
    "plt.title('Revenue distribution of top-grossing movies');"
   ]
  },
  {
   "cell_type": "markdown",
   "metadata": {},
   "source": [
    "Yes, the revenue distribution of the top-grossing movies is no different from the rest. \n",
    "But **what are these top-grossing movies?** (Our fifth question.)\n",
    "I give the list of top ten movies in terms of revenue and their characteristics. "
   ]
  },
  {
   "cell_type": "markdown",
   "metadata": {},
   "source": [
    "#### Top ten!"
   ]
  },
  {
   "cell_type": "code",
   "execution_count": 31,
   "metadata": {},
   "outputs": [
    {
     "data": {
      "text/html": [
       "<div>\n",
       "<style scoped>\n",
       "    .dataframe tbody tr th:only-of-type {\n",
       "        vertical-align: middle;\n",
       "    }\n",
       "\n",
       "    .dataframe tbody tr th {\n",
       "        vertical-align: top;\n",
       "    }\n",
       "\n",
       "    .dataframe thead th {\n",
       "        text-align: right;\n",
       "    }\n",
       "</style>\n",
       "<table border=\"1\" class=\"dataframe\">\n",
       "  <thead>\n",
       "    <tr style=\"text-align: right;\">\n",
       "      <th></th>\n",
       "      <th>popularity</th>\n",
       "      <th>original_title</th>\n",
       "      <th>cast</th>\n",
       "      <th>director</th>\n",
       "      <th>runtime</th>\n",
       "      <th>genres</th>\n",
       "      <th>production_companies</th>\n",
       "      <th>release_date</th>\n",
       "      <th>release_year</th>\n",
       "      <th>budget_adj</th>\n",
       "      <th>revenue_adj</th>\n",
       "    </tr>\n",
       "  </thead>\n",
       "  <tbody>\n",
       "    <tr>\n",
       "      <th>1386</th>\n",
       "      <td>9.432768</td>\n",
       "      <td>Avatar</td>\n",
       "      <td>Sam Worthington|Zoe Saldana|Sigourney Weaver|S...</td>\n",
       "      <td>James Cameron</td>\n",
       "      <td>162</td>\n",
       "      <td>Action|Adventure|Fantasy|Science Fiction</td>\n",
       "      <td>Ingenious Film Partners|Twentieth Century Fox ...</td>\n",
       "      <td>12/10/09</td>\n",
       "      <td>2009</td>\n",
       "      <td>2.408869e+08</td>\n",
       "      <td>2.827124e+09</td>\n",
       "    </tr>\n",
       "    <tr>\n",
       "      <th>1329</th>\n",
       "      <td>12.037933</td>\n",
       "      <td>Star Wars</td>\n",
       "      <td>Mark Hamill|Harrison Ford|Carrie Fisher|Peter ...</td>\n",
       "      <td>George Lucas</td>\n",
       "      <td>121</td>\n",
       "      <td>Adventure|Action|Science Fiction</td>\n",
       "      <td>Lucasfilm|Twentieth Century Fox Film Corporation</td>\n",
       "      <td>3/20/77</td>\n",
       "      <td>1977</td>\n",
       "      <td>3.957559e+07</td>\n",
       "      <td>2.789712e+09</td>\n",
       "    </tr>\n",
       "    <tr>\n",
       "      <th>5231</th>\n",
       "      <td>4.355219</td>\n",
       "      <td>Titanic</td>\n",
       "      <td>Kate Winslet|Leonardo DiCaprio|Frances Fisher|...</td>\n",
       "      <td>James Cameron</td>\n",
       "      <td>194</td>\n",
       "      <td>Drama|Romance|Thriller</td>\n",
       "      <td>Paramount Pictures|Twentieth Century Fox Film ...</td>\n",
       "      <td>11/18/97</td>\n",
       "      <td>1997</td>\n",
       "      <td>2.716921e+08</td>\n",
       "      <td>2.506406e+09</td>\n",
       "    </tr>\n",
       "    <tr>\n",
       "      <th>10594</th>\n",
       "      <td>2.010733</td>\n",
       "      <td>The Exorcist</td>\n",
       "      <td>Linda Blair|Max von Sydow|Ellen Burstyn|Jason ...</td>\n",
       "      <td>William Friedkin</td>\n",
       "      <td>122</td>\n",
       "      <td>Drama|Horror|Thriller</td>\n",
       "      <td>Warner Bros.|Hoya Productions</td>\n",
       "      <td>12/26/73</td>\n",
       "      <td>1973</td>\n",
       "      <td>3.928928e+07</td>\n",
       "      <td>2.167325e+09</td>\n",
       "    </tr>\n",
       "    <tr>\n",
       "      <th>9806</th>\n",
       "      <td>2.563191</td>\n",
       "      <td>Jaws</td>\n",
       "      <td>Roy Scheider|Robert Shaw|Richard Dreyfuss|Lorr...</td>\n",
       "      <td>Steven Spielberg</td>\n",
       "      <td>124</td>\n",
       "      <td>Horror|Thriller|Adventure</td>\n",
       "      <td>Universal Pictures|Zanuck/Brown Productions</td>\n",
       "      <td>6/18/75</td>\n",
       "      <td>1975</td>\n",
       "      <td>2.836275e+07</td>\n",
       "      <td>1.907006e+09</td>\n",
       "    </tr>\n",
       "    <tr>\n",
       "      <th>3</th>\n",
       "      <td>11.173104</td>\n",
       "      <td>Star Wars: The Force Awakens</td>\n",
       "      <td>Harrison Ford|Mark Hamill|Carrie Fisher|Adam D...</td>\n",
       "      <td>J.J. Abrams</td>\n",
       "      <td>136</td>\n",
       "      <td>Action|Adventure|Science Fiction|Fantasy</td>\n",
       "      <td>Lucasfilm|Truenorth Productions|Bad Robot</td>\n",
       "      <td>12/15/15</td>\n",
       "      <td>2015</td>\n",
       "      <td>1.839999e+08</td>\n",
       "      <td>1.902723e+09</td>\n",
       "    </tr>\n",
       "    <tr>\n",
       "      <th>8889</th>\n",
       "      <td>2.900556</td>\n",
       "      <td>E.T. the Extra-Terrestrial</td>\n",
       "      <td>Henry Thomas|Drew Barrymore|Robert MacNaughton...</td>\n",
       "      <td>Steven Spielberg</td>\n",
       "      <td>115</td>\n",
       "      <td>Science Fiction|Adventure|Family|Fantasy</td>\n",
       "      <td>Universal Pictures|Amblin Entertainment</td>\n",
       "      <td>4/3/82</td>\n",
       "      <td>1982</td>\n",
       "      <td>2.372625e+07</td>\n",
       "      <td>1.791694e+09</td>\n",
       "    </tr>\n",
       "    <tr>\n",
       "      <th>8094</th>\n",
       "      <td>1.136610</td>\n",
       "      <td>The Net</td>\n",
       "      <td>Sandra Bullock|Jeremy Northam|Dennis Miller|We...</td>\n",
       "      <td>Irwin Winkler</td>\n",
       "      <td>114</td>\n",
       "      <td>Crime|Drama|Mystery|Thriller|Action</td>\n",
       "      <td>Columbia Pictures</td>\n",
       "      <td>7/28/95</td>\n",
       "      <td>1995</td>\n",
       "      <td>3.148127e+07</td>\n",
       "      <td>1.583050e+09</td>\n",
       "    </tr>\n",
       "    <tr>\n",
       "      <th>10110</th>\n",
       "      <td>2.631987</td>\n",
       "      <td>One Hundred and One Dalmatians</td>\n",
       "      <td>Rod Taylor|J. Pat O'Malley|Betty Lou Gerson|Ma...</td>\n",
       "      <td>Clyde Geronimi|Hamilton Luske|Wolfgang Reitherman</td>\n",
       "      <td>79</td>\n",
       "      <td>Adventure|Animation|Comedy|Family</td>\n",
       "      <td>Walt Disney Productions</td>\n",
       "      <td>1/25/61</td>\n",
       "      <td>1961</td>\n",
       "      <td>2.917944e+07</td>\n",
       "      <td>1.574815e+09</td>\n",
       "    </tr>\n",
       "    <tr>\n",
       "      <th>4361</th>\n",
       "      <td>7.637767</td>\n",
       "      <td>The Avengers</td>\n",
       "      <td>Robert Downey Jr.|Chris Evans|Mark Ruffalo|Chr...</td>\n",
       "      <td>Joss Whedon</td>\n",
       "      <td>143</td>\n",
       "      <td>Science Fiction|Action|Adventure</td>\n",
       "      <td>Marvel Studios</td>\n",
       "      <td>4/25/12</td>\n",
       "      <td>2012</td>\n",
       "      <td>2.089437e+08</td>\n",
       "      <td>1.443191e+09</td>\n",
       "    </tr>\n",
       "  </tbody>\n",
       "</table>\n",
       "</div>"
      ],
      "text/plain": [
       "       popularity                  original_title  \\\n",
       "1386     9.432768                          Avatar   \n",
       "1329    12.037933                       Star Wars   \n",
       "5231     4.355219                         Titanic   \n",
       "10594    2.010733                    The Exorcist   \n",
       "9806     2.563191                            Jaws   \n",
       "3       11.173104    Star Wars: The Force Awakens   \n",
       "8889     2.900556      E.T. the Extra-Terrestrial   \n",
       "8094     1.136610                         The Net   \n",
       "10110    2.631987  One Hundred and One Dalmatians   \n",
       "4361     7.637767                    The Avengers   \n",
       "\n",
       "                                                    cast  \\\n",
       "1386   Sam Worthington|Zoe Saldana|Sigourney Weaver|S...   \n",
       "1329   Mark Hamill|Harrison Ford|Carrie Fisher|Peter ...   \n",
       "5231   Kate Winslet|Leonardo DiCaprio|Frances Fisher|...   \n",
       "10594  Linda Blair|Max von Sydow|Ellen Burstyn|Jason ...   \n",
       "9806   Roy Scheider|Robert Shaw|Richard Dreyfuss|Lorr...   \n",
       "3      Harrison Ford|Mark Hamill|Carrie Fisher|Adam D...   \n",
       "8889   Henry Thomas|Drew Barrymore|Robert MacNaughton...   \n",
       "8094   Sandra Bullock|Jeremy Northam|Dennis Miller|We...   \n",
       "10110  Rod Taylor|J. Pat O'Malley|Betty Lou Gerson|Ma...   \n",
       "4361   Robert Downey Jr.|Chris Evans|Mark Ruffalo|Chr...   \n",
       "\n",
       "                                                director  runtime  \\\n",
       "1386                                       James Cameron      162   \n",
       "1329                                        George Lucas      121   \n",
       "5231                                       James Cameron      194   \n",
       "10594                                   William Friedkin      122   \n",
       "9806                                    Steven Spielberg      124   \n",
       "3                                            J.J. Abrams      136   \n",
       "8889                                    Steven Spielberg      115   \n",
       "8094                                       Irwin Winkler      114   \n",
       "10110  Clyde Geronimi|Hamilton Luske|Wolfgang Reitherman       79   \n",
       "4361                                         Joss Whedon      143   \n",
       "\n",
       "                                         genres  \\\n",
       "1386   Action|Adventure|Fantasy|Science Fiction   \n",
       "1329           Adventure|Action|Science Fiction   \n",
       "5231                     Drama|Romance|Thriller   \n",
       "10594                     Drama|Horror|Thriller   \n",
       "9806                  Horror|Thriller|Adventure   \n",
       "3      Action|Adventure|Science Fiction|Fantasy   \n",
       "8889   Science Fiction|Adventure|Family|Fantasy   \n",
       "8094        Crime|Drama|Mystery|Thriller|Action   \n",
       "10110         Adventure|Animation|Comedy|Family   \n",
       "4361           Science Fiction|Action|Adventure   \n",
       "\n",
       "                                    production_companies release_date  \\\n",
       "1386   Ingenious Film Partners|Twentieth Century Fox ...     12/10/09   \n",
       "1329    Lucasfilm|Twentieth Century Fox Film Corporation      3/20/77   \n",
       "5231   Paramount Pictures|Twentieth Century Fox Film ...     11/18/97   \n",
       "10594                      Warner Bros.|Hoya Productions     12/26/73   \n",
       "9806         Universal Pictures|Zanuck/Brown Productions      6/18/75   \n",
       "3              Lucasfilm|Truenorth Productions|Bad Robot     12/15/15   \n",
       "8889             Universal Pictures|Amblin Entertainment       4/3/82   \n",
       "8094                                   Columbia Pictures      7/28/95   \n",
       "10110                            Walt Disney Productions      1/25/61   \n",
       "4361                                      Marvel Studios      4/25/12   \n",
       "\n",
       "       release_year    budget_adj   revenue_adj  \n",
       "1386           2009  2.408869e+08  2.827124e+09  \n",
       "1329           1977  3.957559e+07  2.789712e+09  \n",
       "5231           1997  2.716921e+08  2.506406e+09  \n",
       "10594          1973  3.928928e+07  2.167325e+09  \n",
       "9806           1975  2.836275e+07  1.907006e+09  \n",
       "3              2015  1.839999e+08  1.902723e+09  \n",
       "8889           1982  2.372625e+07  1.791694e+09  \n",
       "8094           1995  3.148127e+07  1.583050e+09  \n",
       "10110          1961  2.917944e+07  1.574815e+09  \n",
       "4361           2012  2.089437e+08  1.443191e+09  "
      ]
     },
     "execution_count": 31,
     "metadata": {},
     "output_type": "execute_result"
    }
   ],
   "source": [
    "dataset.sort_values(by='revenue_adj', ascending=False).head(10)"
   ]
  },
  {
   "cell_type": "code",
   "execution_count": 32,
   "metadata": {},
   "outputs": [
    {
     "data": {
      "text/html": [
       "<div>\n",
       "<style scoped>\n",
       "    .dataframe tbody tr th:only-of-type {\n",
       "        vertical-align: middle;\n",
       "    }\n",
       "\n",
       "    .dataframe tbody tr th {\n",
       "        vertical-align: top;\n",
       "    }\n",
       "\n",
       "    .dataframe thead th {\n",
       "        text-align: right;\n",
       "    }\n",
       "</style>\n",
       "<table border=\"1\" class=\"dataframe\">\n",
       "  <thead>\n",
       "    <tr style=\"text-align: right;\">\n",
       "      <th></th>\n",
       "      <th>popularity</th>\n",
       "      <th>runtime</th>\n",
       "      <th>release_year</th>\n",
       "      <th>budget_adj</th>\n",
       "      <th>revenue_adj</th>\n",
       "    </tr>\n",
       "  </thead>\n",
       "  <tbody>\n",
       "    <tr>\n",
       "      <th>count</th>\n",
       "      <td>50.000000</td>\n",
       "      <td>50.000000</td>\n",
       "      <td>50.000000</td>\n",
       "      <td>5.000000e+01</td>\n",
       "      <td>5.000000e+01</td>\n",
       "    </tr>\n",
       "    <tr>\n",
       "      <th>mean</th>\n",
       "      <td>5.594902</td>\n",
       "      <td>136.560000</td>\n",
       "      <td>1997.700000</td>\n",
       "      <td>1.392524e+08</td>\n",
       "      <td>1.317835e+09</td>\n",
       "    </tr>\n",
       "    <tr>\n",
       "      <th>std</th>\n",
       "      <td>4.761581</td>\n",
       "      <td>28.385941</td>\n",
       "      <td>16.044899</td>\n",
       "      <td>8.145784e+07</td>\n",
       "      <td>4.451266e+08</td>\n",
       "    </tr>\n",
       "    <tr>\n",
       "      <th>min</th>\n",
       "      <td>0.760503</td>\n",
       "      <td>78.000000</td>\n",
       "      <td>1961.000000</td>\n",
       "      <td>2.372625e+07</td>\n",
       "      <td>9.658933e+08</td>\n",
       "    </tr>\n",
       "    <tr>\n",
       "      <th>25%</th>\n",
       "      <td>2.758491</td>\n",
       "      <td>121.250000</td>\n",
       "      <td>1985.500000</td>\n",
       "      <td>7.110709e+07</td>\n",
       "      <td>1.033247e+09</td>\n",
       "    </tr>\n",
       "    <tr>\n",
       "      <th>50%</th>\n",
       "      <td>4.950633</td>\n",
       "      <td>136.000000</td>\n",
       "      <td>2002.500000</td>\n",
       "      <td>1.392025e+08</td>\n",
       "      <td>1.145192e+09</td>\n",
       "    </tr>\n",
       "    <tr>\n",
       "      <th>75%</th>\n",
       "      <td>6.684794</td>\n",
       "      <td>153.500000</td>\n",
       "      <td>2011.000000</td>\n",
       "      <td>1.886158e+08</td>\n",
       "      <td>1.388085e+09</td>\n",
       "    </tr>\n",
       "    <tr>\n",
       "      <th>max</th>\n",
       "      <td>32.985763</td>\n",
       "      <td>201.000000</td>\n",
       "      <td>2015.000000</td>\n",
       "      <td>3.683713e+08</td>\n",
       "      <td>2.827124e+09</td>\n",
       "    </tr>\n",
       "  </tbody>\n",
       "</table>\n",
       "</div>"
      ],
      "text/plain": [
       "       popularity     runtime  release_year    budget_adj   revenue_adj\n",
       "count   50.000000   50.000000     50.000000  5.000000e+01  5.000000e+01\n",
       "mean     5.594902  136.560000   1997.700000  1.392524e+08  1.317835e+09\n",
       "std      4.761581   28.385941     16.044899  8.145784e+07  4.451266e+08\n",
       "min      0.760503   78.000000   1961.000000  2.372625e+07  9.658933e+08\n",
       "25%      2.758491  121.250000   1985.500000  7.110709e+07  1.033247e+09\n",
       "50%      4.950633  136.000000   2002.500000  1.392025e+08  1.145192e+09\n",
       "75%      6.684794  153.500000   2011.000000  1.886158e+08  1.388085e+09\n",
       "max     32.985763  201.000000   2015.000000  3.683713e+08  2.827124e+09"
      ]
     },
     "execution_count": 32,
     "metadata": {},
     "output_type": "execute_result"
    }
   ],
   "source": [
    "dataset.sort_values(by='revenue_adj', ascending=False).head(50).describe()"
   ]
  },
  {
   "cell_type": "markdown",
   "metadata": {},
   "source": [
    "#### Highest grossing movie directors"
   ]
  },
  {
   "cell_type": "markdown",
   "metadata": {},
   "source": [
    "**Who directs these movies? ** (Our sixth question)\n",
    "Following the procedure for popularity we have the following list. "
   ]
  },
  {
   "cell_type": "code",
   "execution_count": 33,
   "metadata": {
    "scrolled": false
   },
   "outputs": [
    {
     "data": {
      "text/plain": [
       "Steven Spielberg     7\n",
       "Peter Jackson        6\n",
       "George Lucas         4\n",
       "Michael Bay          4\n",
       "David Yates          4\n",
       "Gore Verbinski       3\n",
       "James Cameron        3\n",
       "Sam Raimi            3\n",
       "Christopher Nolan    3\n",
       "Chris Columbus       3\n",
       "Name: director, dtype: int64"
      ]
     },
     "execution_count": 33,
     "metadata": {},
     "output_type": "execute_result"
    }
   ],
   "source": [
    "dataset.sort_values(by='revenue_adj', ascending=False).head(100).director.value_counts()[:10]"
   ]
  },
  {
   "cell_type": "markdown",
   "metadata": {},
   "source": [
    "Definitely not the same as before!"
   ]
  },
  {
   "cell_type": "markdown",
   "metadata": {},
   "source": [
    "### 3. Popularity versus Revenue"
   ]
  },
  {
   "cell_type": "markdown",
   "metadata": {},
   "source": [
    "We saw that the most popular and most revenue generating movies need not overlap. \n",
    "Here we want see if these is any correlation. \n",
    "This is our seventh question:** Is popularity related to revenue?** \n",
    "(It should be positive.)"
   ]
  },
  {
   "cell_type": "code",
   "execution_count": 34,
   "metadata": {
    "scrolled": true
   },
   "outputs": [
    {
     "data": {
      "image/png": "[encoded data removed]",
      "text/plain": [
       "<Figure size 432x288 with 1 Axes>"
      ]
     },
     "metadata": {},
     "output_type": "display_data"
    }
   ],
   "source": [
    "dataset_rev.plot(kind='scatter', x='popularity', y='revenue_adj');\n",
    "plt.xlabel('Popularity')\n",
    "plt.ylabel('Revenue (in 2010 USD)')\n",
    "plt.title('Relation between popularity and revenue');"
   ]
  },
  {
   "cell_type": "markdown",
   "metadata": {},
   "source": [
    "As the scatter plot portrays, there is definitely a positive correlation. \n",
    "The outliers have made the correlation a difficilt to see. \n",
    "Also, there is a lot of spread. \n",
    "In the following, we ask a related question: How strong is the correlation among the outliers? \n",
    "If a movie is an outlier in popularity, what are the chances it will be an outlier in revenue, and vice versa?"
   ]
  },
  {
   "cell_type": "code",
   "execution_count": 35,
   "metadata": {},
   "outputs": [
    {
     "name": "stdout",
     "output_type": "stream",
     "text": [
      "Popular outlier = 928 and Revenue outlier = 469\n"
     ]
    }
   ],
   "source": [
    "# sets of popular and revenue outliers\n",
    "set_pop_out =  set(dataset_pop_out.original_title)\n",
    "set_rev_out =  set(dataset_rev_out.original_title)\n",
    "print('Popular outlier = {} and Revenue outlier = {}'\n",
    "      .format(len(set_pop_out), len(set_rev_out)))"
   ]
  },
  {
   "cell_type": "code",
   "execution_count": 36,
   "metadata": {},
   "outputs": [
    {
     "name": "stdout",
     "output_type": "stream",
     "text": [
      "Intersect: 330\n"
     ]
    }
   ],
   "source": [
    "# intersect of sets of popular and revenue outliers\n",
    "print('Intersect: {}'.format(len(set_pop_out.intersection(set_rev_out))))"
   ]
  },
  {
   "cell_type": "markdown",
   "metadata": {},
   "source": [
    "A popular outlier has less than fift percent chance (331/930) of being a revenue outlier whereas a revenue outlier has more than fifty percent (331/470) chance of being a popular outlier. "
   ]
  },
  {
   "cell_type": "markdown",
   "metadata": {},
   "source": [
    "### 4. Directors"
   ]
  },
  {
   "cell_type": "markdown",
   "metadata": {},
   "source": [
    "Let's explore the data on directors. \n",
    "(It's a categorical feature compared to the numerical features above.) \n",
    "**Who are the most productive directors?** (Eighth question.) "
   ]
  },
  {
   "cell_type": "code",
   "execution_count": 37,
   "metadata": {},
   "outputs": [
    {
     "data": {
      "text/plain": [
       "Woody Allen          45\n",
       "Clint Eastwood       34\n",
       "Steven Spielberg     29\n",
       "Martin Scorsese      28\n",
       "Ridley Scott         23\n",
       "Steven Soderbergh    22\n",
       "Ron Howard           22\n",
       "Joel Schumacher      21\n",
       "Brian De Palma       20\n",
       "Wes Craven           19\n",
       "Name: director, dtype: int64"
      ]
     },
     "execution_count": 37,
     "metadata": {},
     "output_type": "execute_result"
    }
   ],
   "source": [
    "dataset.director.value_counts()[:10]"
   ]
  },
  {
   "cell_type": "markdown",
   "metadata": {},
   "source": [
    "Not surprisingly, Woody Allen (45) comes at top followed by Clint Eastwood (34) and Steven Spielberg (20). \n",
    "Spielberg is closely followed by Martin Scorses (28). \n",
    "I wondered how many movies does a director generally make? "
   ]
  },
  {
   "cell_type": "code",
   "execution_count": 39,
   "metadata": {},
   "outputs": [
    {
     "data": {
      "text/plain": [
       "count    5018.000000\n",
       "mean        2.138701\n",
       "std         2.529060\n",
       "min         1.000000\n",
       "25%         1.000000\n",
       "50%         1.000000\n",
       "75%         2.000000\n",
       "max        45.000000\n",
       "Name: director, dtype: float64"
      ]
     },
     "execution_count": 39,
     "metadata": {},
     "output_type": "execute_result"
    }
   ],
   "source": [
    "dataset.director.value_counts().describe()"
   ]
  },
  {
   "cell_type": "markdown",
   "metadata": {},
   "source": [
    "It seems that a director typically makes just one movie!"
   ]
  },
  {
   "cell_type": "markdown",
   "metadata": {},
   "source": [
    "### 5. Year"
   ]
  },
  {
   "cell_type": "markdown",
   "metadata": {},
   "source": [
    " ** What's the yearly movie production rate? ** (Question 9.) \n",
    "This is best displayed graphically. "
   ]
  },
  {
   "cell_type": "code",
   "execution_count": 40,
   "metadata": {},
   "outputs": [],
   "source": [
    "# select the year column\n",
    "year = dataset.release_year\n",
    "\n",
    "# value counts\n",
    "year_counts = year.value_counts()\n",
    "\n",
    "# reverse the value counts series to have the maximum on top\n",
    "year_counts_rev = year_counts.reindex(year_counts.index[::-1])"
   ]
  },
  {
   "cell_type": "code",
   "execution_count": 41,
   "metadata": {
    "scrolled": true
   },
   "outputs": [
    {
     "data": {
      "image/png": "[encoded data removed]",
      "text/plain": [
       "<Figure size 576x1152 with 1 Axes>"
      ]
     },
     "metadata": {},
     "output_type": "display_data"
    }
   ],
   "source": [
    "year_counts_rev.plot.barh(figsize=(8, 16))\n",
    "plt.xlabel('Movies made')\n",
    "plt.title('Yearly movie distribution');"
   ]
  },
  {
   "cell_type": "markdown",
   "metadata": {},
   "source": [
    "So the number movies per year is increasing steadily, though not always monotonically. For example, 2010 had less number of movies made than in year 2009 and 2008. Similarly, 2015 had less movies than 2013 and 2014.  "
   ]
  },
  {
   "cell_type": "markdown",
   "metadata": {},
   "source": [
    "### 6. Genre"
   ]
  },
  {
   "cell_type": "markdown",
   "metadata": {},
   "source": [
    "Finally, we address the last question: \n",
    "**Which genres are most popular from year to year?** "
   ]
  },
  {
   "cell_type": "code",
   "execution_count": 42,
   "metadata": {
    "scrolled": true
   },
   "outputs": [
    {
     "data": {
      "text/plain": [
       "{'1960': 'Drama',\n",
       " '1961': 'Drama',\n",
       " '1962': 'Drama',\n",
       " '1963': 'Drama',\n",
       " '1964': 'Drama',\n",
       " '1965': 'Drama',\n",
       " '1966': 'Drama',\n",
       " '1967': 'Comedy',\n",
       " '1968': 'Drama',\n",
       " '1969': 'Drama',\n",
       " '1970': 'Drama',\n",
       " '1971': 'Drama',\n",
       " '1972': 'Drama',\n",
       " '1973': 'Drama',\n",
       " '1974': 'Drama',\n",
       " '1975': 'Drama',\n",
       " '1976': 'Drama',\n",
       " '1977': 'Drama',\n",
       " '1978': 'Drama',\n",
       " '1979': 'Drama',\n",
       " '1980': 'Drama',\n",
       " '1981': 'Drama',\n",
       " '1982': 'Drama',\n",
       " '1983': 'Drama',\n",
       " '1984': 'Drama',\n",
       " '1985': 'Comedy',\n",
       " '1986': 'Drama',\n",
       " '1987': 'Comedy',\n",
       " '1988': 'Comedy',\n",
       " '1989': 'Comedy',\n",
       " '1990': 'Drama',\n",
       " '1991': 'Drama',\n",
       " '1992': 'Drama',\n",
       " '1993': 'Drama',\n",
       " '1994': 'Comedy',\n",
       " '1995': 'Drama',\n",
       " '1996': 'Drama',\n",
       " '1997': 'Drama',\n",
       " '1998': 'Drama',\n",
       " '1999': 'Drama',\n",
       " '2000': 'Drama',\n",
       " '2001': 'Comedy',\n",
       " '2002': 'Drama',\n",
       " '2003': 'Comedy',\n",
       " '2004': 'Drama',\n",
       " '2005': 'Drama',\n",
       " '2006': 'Drama',\n",
       " '2007': 'Drama',\n",
       " '2008': 'Drama',\n",
       " '2009': 'Drama',\n",
       " '2010': 'Drama',\n",
       " '2011': 'Drama',\n",
       " '2012': 'Drama',\n",
       " '2013': 'Drama',\n",
       " '2014': 'Drama',\n",
       " '2015': 'Drama'}"
      ]
     },
     "execution_count": 42,
     "metadata": {},
     "output_type": "execute_result"
    }
   ],
   "source": [
    "# earliest and latest years of record\n",
    "earliest = int(dataset.release_year.describe()['min'])\n",
    "latest = int(dataset.release_year.describe()['max'])\n",
    "\n",
    "# For each year, collect the genres and find out\n",
    "# the frequncy distribution\n",
    "pop_gen = {}\n",
    "for year in np.arange(earliest, latest+1):\n",
    "    # collect the genre strings of a year as a series\n",
    "    genres_year = dataset.query('release_year == {}'.format(year))['genres']\n",
    "    genres = []\n",
    "    # split and store genre strings in 'genres' list\n",
    "    for genre in genres_year:\n",
    "        genres.append(str(genre).split('|'))\n",
    "    \n",
    "    # make a flat list from 'genres' list \n",
    "    # so that we can determine frequencies\n",
    "    flat_list = [item for sublist in genres for item in sublist]\n",
    "    # make the flat list into a pandas series \n",
    "    # so that we can use the pd.value_counts() function\n",
    "    genres = pd.Series(flat_list)\n",
    "    pop_gen[str(year)] = genres.value_counts().idxmax()\n",
    "\n",
    "# print the most popular genres per year\n",
    "pop_gen"
   ]
  },
  {
   "cell_type": "markdown",
   "metadata": {},
   "source": [
    "Drama first! Comedy second. And none else! \n",
    "This is al the more surprising from to the fact that thriller is the most common genre after drama, and not comedy, as we below. "
   ]
  },
  {
   "cell_type": "code",
   "execution_count": 43,
   "metadata": {},
   "outputs": [
    {
     "data": {
      "image/png": "[encoded data removed]",
      "text/plain": [
       "<Figure size 720x720 with 1 Axes>"
      ]
     },
     "metadata": {},
     "output_type": "display_data"
    }
   ],
   "source": [
    "pd.Series(flat_list).value_counts().plot(kind='pie', figsize=(10,10), label='Distribution of movie genres');"
   ]
  },
  {
   "cell_type": "markdown",
   "metadata": {},
   "source": [
    "<a id='conclude'></a>\n",
    "## Conclusions"
   ]
  },
  {
   "cell_type": "markdown",
   "metadata": {},
   "source": [
    "In the above analysis I have explored popularity, revenue, their relation, directors, years, and genres in the movie database (TMDB). \n",
    "The prime characteristic of the database is the presence of outlier. \n",
    "In popularity, for example, we saw that a handful of movies reached a score as high as 10 whereas more than 3 out of 4 had a score below 1. \n",
    "\n",
    "Revenue had a lot of missing values. \n",
    "Of the movies that did have the data, we saw that here too the presence of outliers was prominent. \n",
    "In fact, the distribution seemed exponential, not even having a peak anywhere. \n",
    "In a sense, there is no typical value of revenue. \n",
    "\n",
    "Next we considered the relation between popularity and revenue with mulple metrics. \n",
    "They are definitely positively correlated on the average, although there is a lot of spread. \n",
    "I compared most popular movies with highet-grossing movies. \n",
    "A popular outlier has less than fift percent chance (331/930) of being a revenue outlier whereas a revenue outlier has more than fifty percent (331/470) chance of being a popular outlier.\n",
    "I also looked at the directors of these movies. \n",
    "While there is a definite overlap there were some interesting mossions in each. \n",
    "Quentin Tarantino came out in top as a popular movie make, but he was not among the top ten revenue generators. \n",
    "Steven Spielberg came out in top as a revenue generator, but he was not among the top ten popular directors (in my interpretaion, of course!).\n",
    "\n",
    "Just for fun, I also looked at the prolificity of directors. \n",
    "Woody Allen (45) came in top followed by Clint Eastwood (34) and Steven Spielberg (20). Spielberg is closely followed by Martin Scorses (28). \n",
    "\n",
    "More an more movies are being made over the years. \n",
    "The progression, however, is not strctly monotonic. \n",
    "For example, 2010 had less number of movies made than in year 2009 and 2008. Similarly, 2015 had less movies than 2013 and 2014.  \n",
    "\n",
    "Let me end the report with a curious observation about genres. \n",
    "I looked at the most popular genre in a year. \n",
    "Drama came first and comedy second. \n",
    "And none else ever made in the list!\n",
    "This is all the more surprising becase comedy is not the second most frequent genre over all; it is thriller. \n",
    "Yet, while comedy came out to be most popular genere many times, thriller never showed up. \n",
    "Something to be investigated soon. "
   ]
  },
  {
   "cell_type": "markdown",
   "metadata": {},
   "source": [
    "### Limitations"
   ]
  },
  {
   "cell_type": "markdown",
   "metadata": {},
   "source": [
    "Any data-science investigation is limited by the quality of the dataset and the analysis. \n",
    "The current investigation is no exception. \n",
    "The dataset for the current investigation has entries for years 1960 to 2015. \n",
    "We could not make any concrete comments about movies made before or afterwards. \n",
    "\n",
    "The revenue was not list for almost half of the movies. \n",
    "So the statistics mentioned in relation to revenue, while representative, may not be robust. \n",
    "This is especially true for the outliers for which we may have missed some top-grossing movies. \n",
    "\n",
    "While the popularity metric made sense in terms of the movies that we know to be popular, its definition was missing in the description of the dataset. \n",
    "While it must be a reasonable function of the various features of a movie, we cannot be sure that it did not favor some types of movies over others. \n",
    "\n",
    "On the analysis side, I was not able to explore all the features involved in the dataset and their dependency. \n",
    "Given time, it would have been interesting to explore, for example, the influence of cast and directors on popularity, the popularity of different genres, or if a particular genre is getting more and more popular, among others.  "
   ]
  },
  {
   "cell_type": "code",
   "execution_count": null,
   "metadata": {},
   "outputs": [],
   "source": []
  }
 ],
 "metadata": {
  "kernelspec": {
   "display_name": "Python [conda env:anaconda3]",
   "language": "python",
   "name": "conda-env-anaconda3-py"
  },
  "language_info": {
   "codemirror_mode": {
    "name": "ipython",
    "version": 3
   },
   "file_extension": ".py",
   "mimetype": "text/x-python",
   "name": "python",
   "nbconvert_exporter": "python",
   "pygments_lexer": "ipython3",
   "version": "3.6.4"
  }
 },
 "nbformat": 4,
 "nbformat_minor": 2
}
